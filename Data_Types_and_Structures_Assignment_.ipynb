{
  "nbformat": 4,
  "nbformat_minor": 0,
  "metadata": {
    "colab": {
      "provenance": []
    },
    "kernelspec": {
      "name": "python3",
      "display_name": "Python 3"
    },
    "language_info": {
      "name": "python"
    }
  },
  "cells": [
    {
      "cell_type": "code",
      "execution_count": null,
      "metadata": {
        "id": "uiNtTwAY5dzY"
      },
      "outputs": [],
      "source": []
    },
    {
      "cell_type": "markdown",
      "source": [
        "1. What are data structures, and why are they important?\n",
        "\n",
        "->Data structures are ways to store and organize data. They help us find and use data quickly. They make programs run faster and use memory better."
      ],
      "metadata": {
        "id": "cfrK02V05mnt"
      }
    },
    {
      "cell_type": "markdown",
      "source": [
        "2. Explain the difference between mutable and immutable data types with examples.\n",
        "->\n",
        "Mutable data can be changed, like a list [1, 2, 3]. Immutable data can't be changed, like a string \"hello\" or a tuple (1, 2, 3). This affects how we use and update them."
      ],
      "metadata": {
        "id": "Re2UaSR26HNK"
      }
    },
    {
      "cell_type": "markdown",
      "source": [
        "3. What are the main differences between lists and tuples in Python?\n",
        "->Lists can be changed (add, remove, update items), but tuples cannot be changed after they are made. Use lists when data will change, and tuples when it should stay the same."
      ],
      "metadata": {
        "id": "AxoaTu6K6Q1e"
      }
    },
    {
      "cell_type": "markdown",
      "source": [
        "4. Describe how dictionaries store data.\n",
        "->Dictionaries keep data in pairs — one part is the key, the other is the value. Like a contact list with names as keys and phone numbers as values."
      ],
      "metadata": {
        "id": "oV0sFof96Yyh"
      }
    },
    {
      "cell_type": "markdown",
      "source": [
        "5. Why might you use a set instead of a list in Python?\n",
        "->Sets only keep unique items — no duplicates allowed. They’re also faster when checking if something is inside. Use a set when you want only different items."
      ],
      "metadata": {
        "id": "m04nk6wi6gE7"
      }
    },
    {
      "cell_type": "markdown",
      "source": [
        "6. What is a string in Python, and how is it different from a list?\n",
        "->A string is a set of characters like \"Python\" and cannot be changed. A list can hold many types of data and can be changed. Lists are more flexible than strings."
      ],
      "metadata": {
        "id": "CYApVEGT6lzD"
      }
    },
    {
      "cell_type": "markdown",
      "source": [
        "7. How do tuples ensure data integrity in Python?\n",
        "\n",
        "->Tuples can’t be changed after they’re made. This keeps the data safe from accidental changes. That’s why they’re good for storing fixed information."
      ],
      "metadata": {
        "id": "Jx6dtXa160hW"
      }
    },
    {
      "cell_type": "markdown",
      "source": [
        "8. What is a hash table, and how does it relate to dictionaries in Python?\n",
        "->A hash table stores data using a special code called a hash. Dictionaries use this to quickly find values using keys, like looking up a word in a dictionary."
      ],
      "metadata": {
        "id": "QC5NTRia7Pt6"
      }
    },
    {
      "cell_type": "markdown",
      "source": [
        "9. Can lists contain different data types in Python?\n",
        "->Yes! A list can have numbers, words, or even other lists. Example: [1, \"hello\", [2, 3]] — all in one list."
      ],
      "metadata": {
        "id": "8_Qr12aq7g5c"
      }
    },
    {
      "cell_type": "markdown",
      "source": [
        "10. Explain why strings are immutable in Python.\n",
        "->Strings can’t be changed after they’re made. If you try to change one, Python makes a new one instead. This helps keep things safe and fast."
      ],
      "metadata": {
        "id": "5D2KMJeK7sBf"
      }
    },
    {
      "cell_type": "markdown",
      "source": [
        "11. What advantages do dictionaries offer over lists for certain tasks?\n",
        "->Dictionaries are better when you need to find things by name or label (key). Lists are slower because you must search by position or go through each item."
      ],
      "metadata": {
        "id": "bQS3_mdu7x3Z"
      }
    },
    {
      "cell_type": "markdown",
      "source": [
        "12. Describe a scenario where using a tuple would be preferable over a list.\n",
        "->Use a tuple when the data should not change, like storing a date of birth or (x, y) coordinates. This protects the data from being changed by mistake."
      ],
      "metadata": {
        "id": "INgbTlNh8gbP"
      }
    },
    {
      "cell_type": "markdown",
      "source": [
        "13. How do sets handle duplicate values in Python?\n",
        "->Sets remove duplicates by themselves. If you add the same value more than once, the set keeps it only once."
      ],
      "metadata": {
        "id": "jFAuZaQP8lG3"
      }
    },
    {
      "cell_type": "markdown",
      "source": [
        "14. How does the “in” keyword work differently for lists and dictionaries?\n",
        "->In a list, in checks if a value is inside. In a dictionary, it checks if a key is there. Example: \"apple\" in my_dict checks for a key, not a value."
      ],
      "metadata": {
        "id": "NVeyXcS98rhN"
      }
    },
    {
      "cell_type": "markdown",
      "source": [
        "15. Can you modify the elements of a tuple? Explain why or why not.\n",
        "->No, you can’t change a tuple once it’s made. That’s because tuples are fixed — they are made to keep data safe and unchangea"
      ],
      "metadata": {
        "id": "Cc1jUu_l8y16"
      }
    },
    {
      "cell_type": "markdown",
      "source": [
        "16. What is a nested dictionary, and give an example of its use case.\n",
        "->A nested dictionary is a dictionary inside another. Example: {\"John\": {\"math\": 90, \"science\": 80}}. It’s useful for storing info about many things in one place."
      ],
      "metadata": {
        "id": "_reXG0oK825B"
      }
    },
    {
      "cell_type": "markdown",
      "source": [
        "17. Describe the time complexity of accessing elements in a dictionary.\n",
        "->Getting a value from a dictionary is very fast — it usually takes the same short time no matter how big it is. This is because of how keys are stored using hashes."
      ],
      "metadata": {
        "id": "jAecq5bu87vl"
      }
    },
    {
      "cell_type": "markdown",
      "source": [
        "18. In what situations are lists preferred over dictionaries?\n",
        "->Use lists when you care about the order of items or don’t need names for them. Like a list of numbers or names in a row."
      ],
      "metadata": {
        "id": "GIZdWowF9Ccn"
      }
    },
    {
      "cell_type": "markdown",
      "source": [
        "19. Why are dictionaries considered unordered, and how does that affect data retrieval?\n",
        "->Before Python 3.7, dictionaries didn’t keep the order of items. Now they do, but you still access items by key, not position like a list."
      ],
      "metadata": {
        "id": "6qxThvbj9KqD"
      }
    },
    {
      "cell_type": "markdown",
      "source": [
        "20. Explain the difference between a list and a dictionary in terms of data retrieval.\n",
        "->Lists use numbers (indexes) to get items, like my_list[0]. Dictionaries use keys, like my_dict[\"name\"]. Dictionaries are better for named data."
      ],
      "metadata": {
        "id": "q3wyanrs9Pfd"
      }
    },
    {
      "cell_type": "code",
      "source": [
        "\"\"\" Practical Questions \"\"\""
      ],
      "metadata": {
        "id": "8h2Lk08C9Vvh"
      },
      "execution_count": null,
      "outputs": []
    },
    {
      "cell_type": "code",
      "source": [
        "'''\n",
        "1. Write a code to create a string with your name and print it\n",
        "'''\n",
        "name = \"John\"\n",
        "print(name)"
      ],
      "metadata": {
        "colab": {
          "base_uri": "https://localhost:8080/"
        },
        "id": "1jPVgVY-9uhs",
        "outputId": "2f3d3cb0-7890-4bb4-c3d6-38d9005d0a42"
      },
      "execution_count": 2,
      "outputs": [
        {
          "output_type": "stream",
          "name": "stdout",
          "text": [
            "John\n"
          ]
        }
      ]
    },
    {
      "cell_type": "code",
      "source": [
        "\"\"\"\n",
        "2. Write a code to find the length of the string \"Hello World\"\n",
        "\"\"\"\n",
        "text = \"Hello World\"\n",
        "print(len(text))"
      ],
      "metadata": {
        "colab": {
          "base_uri": "https://localhost:8080/"
        },
        "id": "IUCuqCVA-NM-",
        "outputId": "ad99c16c-aaa6-46dc-81c7-b569b8bac170"
      },
      "execution_count": 3,
      "outputs": [
        {
          "output_type": "stream",
          "name": "stdout",
          "text": [
            "11\n"
          ]
        }
      ]
    },
    {
      "cell_type": "code",
      "source": [
        "'''\n",
        "3. Write a code to slice the first 3 characters from the string \"Python Programming\"\n",
        "'''\n",
        "text = \"Python Programming\"\n",
        "print(text[:3])"
      ],
      "metadata": {
        "colab": {
          "base_uri": "https://localhost:8080/"
        },
        "id": "67oiod-3-fIZ",
        "outputId": "9630b694-c32d-4146-89c5-c119f0bf5663"
      },
      "execution_count": 4,
      "outputs": [
        {
          "output_type": "stream",
          "name": "stdout",
          "text": [
            "Pyt\n"
          ]
        }
      ]
    },
    {
      "cell_type": "code",
      "source": [
        "\"\"\"\n",
        " 4. Write a code to convert the string \"hello\" to uppercase.\n",
        "\"\"\"\n",
        "\n",
        "text = \"hello\"\n",
        "print(text.upper())"
      ],
      "metadata": {
        "colab": {
          "base_uri": "https://localhost:8080/"
        },
        "id": "fmbLdnY9-x20",
        "outputId": "12643a03-1f97-4ee3-ad68-55d5d2fdafe1"
      },
      "execution_count": 5,
      "outputs": [
        {
          "output_type": "stream",
          "name": "stdout",
          "text": [
            "HELLO\n"
          ]
        }
      ]
    },
    {
      "cell_type": "code",
      "source": [
        "'''\n",
        " 5. Write a code to replace the word \"apple\" with \"orange\" in the string \"I like apple\"\n",
        "'''\n",
        "\n",
        "text = \"I like apple\"\n",
        "new_text = text.replace(\"apple\", \"orange\")\n",
        "new_text"
      ],
      "metadata": {
        "colab": {
          "base_uri": "https://localhost:8080/",
          "height": 35
        },
        "id": "TlPz-EXJ_Dhs",
        "outputId": "98993ef2-acde-4d42-b1e0-ea07f5842af6"
      },
      "execution_count": 6,
      "outputs": [
        {
          "output_type": "execute_result",
          "data": {
            "text/plain": [
              "'I like orange'"
            ],
            "application/vnd.google.colaboratory.intrinsic+json": {
              "type": "string"
            }
          },
          "metadata": {},
          "execution_count": 6
        }
      ]
    },
    {
      "cell_type": "code",
      "source": [
        "# 6. Write a code to create a list with numbers 1 to 5 and print it\n",
        "\n",
        "my_list = [1, 2, 3, 4, 5]\n",
        "my_list"
      ],
      "metadata": {
        "colab": {
          "base_uri": "https://localhost:8080/"
        },
        "id": "06MYhCak_dor",
        "outputId": "3501ef0c-2368-492d-cb3e-df1cfc31fed8"
      },
      "execution_count": 7,
      "outputs": [
        {
          "output_type": "execute_result",
          "data": {
            "text/plain": [
              "[1, 2, 3, 4, 5]"
            ]
          },
          "metadata": {},
          "execution_count": 7
        }
      ]
    },
    {
      "cell_type": "code",
      "source": [
        "# 7. Write a code to append the number 10 to the list [1, 2, 3, 4]\n",
        "\n",
        "my_list = [1, 2, 3, 4]\n",
        "my_list.append(10)\n",
        "my_list\n"
      ],
      "metadata": {
        "colab": {
          "base_uri": "https://localhost:8080/"
        },
        "id": "7NJLkLpV_jP9",
        "outputId": "d6f5cf97-c8c2-4931-8d94-8e2eb0cfebae"
      },
      "execution_count": 8,
      "outputs": [
        {
          "output_type": "execute_result",
          "data": {
            "text/plain": [
              "[1, 2, 3, 4, 10]"
            ]
          },
          "metadata": {},
          "execution_count": 8
        }
      ]
    },
    {
      "cell_type": "code",
      "source": [
        "# 8. Write a code to remove the number 3 from the list [1, 2, 3, 4, 5]\n",
        "\n",
        "my_list = [1, 2, 3, 4, 5]\n",
        "my_list.remove(3)\n",
        "my_list"
      ],
      "metadata": {
        "colab": {
          "base_uri": "https://localhost:8080/"
        },
        "id": "uLyJGMCc_ppw",
        "outputId": "a90c1558-c52d-4e65-ee99-40127a701efb"
      },
      "execution_count": 9,
      "outputs": [
        {
          "output_type": "execute_result",
          "data": {
            "text/plain": [
              "[1, 2, 4, 5]"
            ]
          },
          "metadata": {},
          "execution_count": 9
        }
      ]
    },
    {
      "cell_type": "code",
      "source": [
        "# 9. Write a code to access the second element in the list ['a', 'b', 'c', 'd']\n",
        "\n",
        "my_list = ['a', 'b', 'c', 'd']\n",
        "my_list[1]"
      ],
      "metadata": {
        "colab": {
          "base_uri": "https://localhost:8080/",
          "height": 35
        },
        "id": "13nBMrhE_y7w",
        "outputId": "94603b83-30b6-41c7-e936-5b9120a3087e"
      },
      "execution_count": 10,
      "outputs": [
        {
          "output_type": "execute_result",
          "data": {
            "text/plain": [
              "'b'"
            ],
            "application/vnd.google.colaboratory.intrinsic+json": {
              "type": "string"
            }
          },
          "metadata": {},
          "execution_count": 10
        }
      ]
    },
    {
      "cell_type": "code",
      "source": [
        "# 10. Write a code to reverse the list [10, 20, 30, 40, 50]\n",
        "\n",
        "my_list = [10, 20, 30, 40, 50]\n",
        "my_list.reverse()\n",
        "my_list"
      ],
      "metadata": {
        "colab": {
          "base_uri": "https://localhost:8080/"
        },
        "id": "667sGQ-v__Y4",
        "outputId": "68884e1f-4e78-444d-ced9-60b57b0f9a4b"
      },
      "execution_count": 11,
      "outputs": [
        {
          "output_type": "execute_result",
          "data": {
            "text/plain": [
              "[50, 40, 30, 20, 10]"
            ]
          },
          "metadata": {},
          "execution_count": 11
        }
      ]
    },
    {
      "cell_type": "code",
      "source": [
        "# 11. Create a tuple with the elements 100, 200, 300 and print it\n",
        "\n",
        "my_tuple = (100, 200, 300)\n",
        "my_tuple"
      ],
      "metadata": {
        "colab": {
          "base_uri": "https://localhost:8080/"
        },
        "id": "cbdWVk52ANZ0",
        "outputId": "b54aa1d3-838d-4025-b206-b59be774f558"
      },
      "execution_count": 12,
      "outputs": [
        {
          "output_type": "execute_result",
          "data": {
            "text/plain": [
              "(100, 200, 300)"
            ]
          },
          "metadata": {},
          "execution_count": 12
        }
      ]
    },
    {
      "cell_type": "code",
      "source": [
        "# 12. Access the second-to-last element of the tuple ('red', 'green', 'blue', 'yellow')\n",
        "\n",
        "my_tuple = ('red', 'green', 'blue', 'yellow')\n",
        "my_tuple[-2]"
      ],
      "metadata": {
        "colab": {
          "base_uri": "https://localhost:8080/",
          "height": 35
        },
        "id": "olK7mVDGAdw2",
        "outputId": "a84c38ee-6498-4b92-e4dc-e691cc34cfe8"
      },
      "execution_count": 13,
      "outputs": [
        {
          "output_type": "execute_result",
          "data": {
            "text/plain": [
              "'blue'"
            ],
            "application/vnd.google.colaboratory.intrinsic+json": {
              "type": "string"
            }
          },
          "metadata": {},
          "execution_count": 13
        }
      ]
    },
    {
      "cell_type": "code",
      "source": [
        "# 13. Find the minimum number in the tuple (10, 20, 5, 15)\n",
        "\n",
        "my_tuple = (10, 20, 5, 15)\n",
        "print(min(my_tuple))"
      ],
      "metadata": {
        "colab": {
          "base_uri": "https://localhost:8080/"
        },
        "id": "r47sao6lAm0q",
        "outputId": "bc831b4e-338b-49b8-e332-02786c15d4c2"
      },
      "execution_count": 14,
      "outputs": [
        {
          "output_type": "stream",
          "name": "stdout",
          "text": [
            "5\n"
          ]
        }
      ]
    },
    {
      "cell_type": "code",
      "source": [
        "# 14. Find the index of the element \"cat\" in the tuple ('dog', 'cat', 'rabbit')\n",
        "\n",
        "animals = ('dog', 'cat', 'rabbit')\n",
        "print(animals.index('cat'))\n"
      ],
      "metadata": {
        "colab": {
          "base_uri": "https://localhost:8080/"
        },
        "id": "2MkpxEEACYkv",
        "outputId": "98385229-2dc1-4457-947f-77602708d08b"
      },
      "execution_count": 16,
      "outputs": [
        {
          "output_type": "stream",
          "name": "stdout",
          "text": [
            "1\n"
          ]
        }
      ]
    },
    {
      "cell_type": "code",
      "source": [
        "# 15. Create a tuple with fruits and check if \"kiwi\" is in it\n",
        "\n",
        "fruits = ('apple', 'banana', 'cherry')\n",
        "print('kiwi' in fruits)"
      ],
      "metadata": {
        "colab": {
          "base_uri": "https://localhost:8080/"
        },
        "id": "BJAYoIN7CfFh",
        "outputId": "4bae4eb1-fc43-4ab3-bc4f-6b6263e8b3cf"
      },
      "execution_count": 18,
      "outputs": [
        {
          "output_type": "stream",
          "name": "stdout",
          "text": [
            "False\n"
          ]
        }
      ]
    },
    {
      "cell_type": "code",
      "source": [
        "# 16. Create a set with the elements 'a', 'b', 'c' and print it\n",
        "\n",
        "my_set = {'a', 'b', 'c'}\n",
        "my_set"
      ],
      "metadata": {
        "colab": {
          "base_uri": "https://localhost:8080/"
        },
        "id": "mG0qSxTrCxIu",
        "outputId": "d8a2ccdc-2252-4f13-91dd-aa9cdd3da98a"
      },
      "execution_count": 19,
      "outputs": [
        {
          "output_type": "execute_result",
          "data": {
            "text/plain": [
              "{'a', 'b', 'c'}"
            ]
          },
          "metadata": {},
          "execution_count": 19
        }
      ]
    },
    {
      "cell_type": "code",
      "source": [
        "# 17. Clear all elements from the set {1, 2, 3, 4, 5}\n",
        "\n",
        "my_set = {1, 2, 3, 4, 5}\n",
        "my_set.clear()\n",
        "my_set"
      ],
      "metadata": {
        "colab": {
          "base_uri": "https://localhost:8080/"
        },
        "id": "TrYFGCV2DLls",
        "outputId": "bd27d99d-77e3-45fc-b41a-39a2ec334b13"
      },
      "execution_count": 20,
      "outputs": [
        {
          "output_type": "execute_result",
          "data": {
            "text/plain": [
              "set()"
            ]
          },
          "metadata": {},
          "execution_count": 20
        }
      ]
    },
    {
      "cell_type": "code",
      "source": [
        "# 18. Remove the element 4 from the set {1, 2, 3, 4}\n",
        "\n",
        "my_set = {1, 2, 3, 4}\n",
        "my_set.remove(4)\n",
        "my_set"
      ],
      "metadata": {
        "colab": {
          "base_uri": "https://localhost:8080/"
        },
        "id": "DtfEvDcmDV4e",
        "outputId": "85c0c9b2-a908-44ce-f615-9f3d13a1730a"
      },
      "execution_count": 21,
      "outputs": [
        {
          "output_type": "execute_result",
          "data": {
            "text/plain": [
              "{1, 2, 3}"
            ]
          },
          "metadata": {},
          "execution_count": 21
        }
      ]
    },
    {
      "cell_type": "code",
      "source": [
        "# 19. Find the union of two sets {1, 2, 3} and {3, 4, 5}\n",
        "\n",
        "set1 = {1, 2, 3}\n",
        "set2 = {3, 4, 5}\n",
        "union_set = set1.union(set2)\n",
        "union_set"
      ],
      "metadata": {
        "colab": {
          "base_uri": "https://localhost:8080/"
        },
        "id": "BvHr4aMJDcSy",
        "outputId": "d81224aa-ce15-428c-9791-e34eac9d1dac"
      },
      "execution_count": 22,
      "outputs": [
        {
          "output_type": "execute_result",
          "data": {
            "text/plain": [
              "{1, 2, 3, 4, 5}"
            ]
          },
          "metadata": {},
          "execution_count": 22
        }
      ]
    },
    {
      "cell_type": "code",
      "source": [
        "# 20. Find the intersection of two sets {1, 2, 3} and {2, 3, 4}\n",
        "a = {1, 2, 3}\n",
        "b = {2, 3, 4}\n",
        "print(a.intersection(b))\n"
      ],
      "metadata": {
        "colab": {
          "base_uri": "https://localhost:8080/"
        },
        "id": "wIdRO2j-Dw4d",
        "outputId": "43de71f9-6ffa-4b41-8f86-60ad6c513829"
      },
      "execution_count": 26,
      "outputs": [
        {
          "output_type": "stream",
          "name": "stdout",
          "text": [
            "{2, 3}\n"
          ]
        }
      ]
    },
    {
      "cell_type": "code",
      "source": [
        "# 21. Create a dictionary with keys \"name\", \"age\", and \"city\" and print it\n",
        "\n",
        "my_dict = {\"name\": \"Alice\", \"age\": 30, \"city\": \"New York\"}\n",
        "my_dict"
      ],
      "metadata": {
        "colab": {
          "base_uri": "https://localhost:8080/"
        },
        "id": "IY_QxW3pD8Fz",
        "outputId": "95115693-05f4-4c10-afe3-4e60ad7dac13"
      },
      "execution_count": 27,
      "outputs": [
        {
          "output_type": "execute_result",
          "data": {
            "text/plain": [
              "{'name': 'Alice', 'age': 30, 'city': 'New York'}"
            ]
          },
          "metadata": {},
          "execution_count": 27
        }
      ]
    },
    {
      "cell_type": "code",
      "source": [
        "# 22. Add a new key-value pair \"country\": \"USA\"\n",
        "\n",
        "my_dict[\"country\"] = \"USA\"\n",
        "my_dict"
      ],
      "metadata": {
        "colab": {
          "base_uri": "https://localhost:8080/"
        },
        "id": "YwsueEXgEaQL",
        "outputId": "bc9d1adf-fe07-4a8e-8105-8f214e25b62a"
      },
      "execution_count": 28,
      "outputs": [
        {
          "output_type": "execute_result",
          "data": {
            "text/plain": [
              "{'name': 'Alice', 'age': 30, 'city': 'New York', 'country': 'USA'}"
            ]
          },
          "metadata": {},
          "execution_count": 28
        }
      ]
    },
    {
      "cell_type": "code",
      "source": [
        "# 23. Access the value of key \"name\" in {'name': 'Alice', 'age': 30}\n",
        "\n",
        "person = {'name': 'Alice', 'age': 30}\n",
        "print(person['name'])"
      ],
      "metadata": {
        "colab": {
          "base_uri": "https://localhost:8080/"
        },
        "id": "NCmScMRJEoec",
        "outputId": "42285292-2c3c-491a-af61-22c73ee2716e"
      },
      "execution_count": 29,
      "outputs": [
        {
          "output_type": "stream",
          "name": "stdout",
          "text": [
            "Alice\n"
          ]
        }
      ]
    },
    {
      "cell_type": "code",
      "source": [
        "# 24. Remove the key \"age\" from {'name': 'Bob', 'age': 22, 'city': 'New York'}\n",
        "\n",
        "my_dict = {'name': 'Bob', 'age': 22, 'city': 'New York'}\n",
        "del my_dict['age']\n",
        "my_dict"
      ],
      "metadata": {
        "colab": {
          "base_uri": "https://localhost:8080/"
        },
        "id": "NKnMCh7AEyCo",
        "outputId": "971fc873-46a2-48af-d502-e9c697831d35"
      },
      "execution_count": 30,
      "outputs": [
        {
          "output_type": "execute_result",
          "data": {
            "text/plain": [
              "{'name': 'Bob', 'city': 'New York'}"
            ]
          },
          "metadata": {},
          "execution_count": 30
        }
      ]
    },
    {
      "cell_type": "code",
      "source": [
        "# 25. Check if the key \"city\" exists in {'name': 'Alice', 'city': 'Paris'}\n",
        "\n",
        "person = {'name': 'Alice', 'city': 'Paris'}\n",
        "print(\"city\" in person)"
      ],
      "metadata": {
        "colab": {
          "base_uri": "https://localhost:8080/"
        },
        "id": "u3MO16vzE9J1",
        "outputId": "763fc70a-6109-4a32-c2bb-ca7e88627f7d"
      },
      "execution_count": 31,
      "outputs": [
        {
          "output_type": "stream",
          "name": "stdout",
          "text": [
            "True\n"
          ]
        }
      ]
    },
    {
      "cell_type": "code",
      "source": [
        "# 26. Create a list, a tuple, and a dictionary, and print them all\n",
        "\n",
        "# 26. Create a list, a tuple, and a dictionary, and print them all\n",
        "my_list = [1, 2, 3, \"hello\"]\n",
        "my_tuple = (10, 20, 30)\n",
        "my_dict = {\"apple\": 1, \"banana\": 2}\n",
        "\n",
        "print(my_list)\n",
        "print(my_tuple)\n",
        "my_dict"
      ],
      "metadata": {
        "colab": {
          "base_uri": "https://localhost:8080/"
        },
        "id": "7UpT7T7jFKkc",
        "outputId": "79a63130-c99a-41a8-feb1-3c78d3ca9988"
      },
      "execution_count": 32,
      "outputs": [
        {
          "output_type": "stream",
          "name": "stdout",
          "text": [
            "[1, 2, 3, 'hello']\n",
            "(10, 20, 30)\n"
          ]
        },
        {
          "output_type": "execute_result",
          "data": {
            "text/plain": [
              "{'apple': 1, 'banana': 2}"
            ]
          },
          "metadata": {},
          "execution_count": 32
        }
      ]
    },
    {
      "cell_type": "code",
      "source": [
        "# 27. Create a list of 5 random numbers between 1 and 100, sort and print it\n",
        "\n",
        "import random\n",
        "\n",
        "random_numbers = [random.randint(1, 100) for _ in range(5)]\n",
        "random_numbers.sort()\n",
        "random_numbers"
      ],
      "metadata": {
        "colab": {
          "base_uri": "https://localhost:8080/"
        },
        "id": "evf1E9PIFRKW",
        "outputId": "9c9e01b5-54f9-4946-d6fd-80c204195875"
      },
      "execution_count": 33,
      "outputs": [
        {
          "output_type": "execute_result",
          "data": {
            "text/plain": [
              "[3, 26, 75, 88, 88]"
            ]
          },
          "metadata": {},
          "execution_count": 33
        }
      ]
    },
    {
      "cell_type": "code",
      "source": [
        "# 28. Create a list with strings and print the element at the third index\n",
        "\n",
        "my_list = [\"apple\", \"banana\", \"cherry\", \"date\", \"elderberry\"]\n",
        "my_list[2]"
      ],
      "metadata": {
        "colab": {
          "base_uri": "https://localhost:8080/",
          "height": 35
        },
        "id": "tQF8Nel4Feff",
        "outputId": "6d8a0d7b-2e54-4661-b07f-a3ce1fd137cc"
      },
      "execution_count": 34,
      "outputs": [
        {
          "output_type": "execute_result",
          "data": {
            "text/plain": [
              "'cherry'"
            ],
            "application/vnd.google.colaboratory.intrinsic+json": {
              "type": "string"
            }
          },
          "metadata": {},
          "execution_count": 34
        }
      ]
    },
    {
      "cell_type": "code",
      "source": [
        "# 29. Combine two dictionaries and print the result\n",
        "\n",
        "dict1 = {'a': 1, 'b': 2}\n",
        "dict2 = {'c': 3, 'd': 4}\n",
        "\n",
        "combined_dict = {**dict1, **dict2}\n",
        "combined_dict"
      ],
      "metadata": {
        "colab": {
          "base_uri": "https://localhost:8080/"
        },
        "id": "Pmk8smWqFtB4",
        "outputId": "751c64af-584d-4281-fbd0-ef81338a8b49"
      },
      "execution_count": 36,
      "outputs": [
        {
          "output_type": "execute_result",
          "data": {
            "text/plain": [
              "{'a': 1, 'b': 2, 'c': 3, 'd': 4}"
            ]
          },
          "metadata": {},
          "execution_count": 36
        }
      ]
    },
    {
      "cell_type": "code",
      "source": [
        "# 30. Convert a list of strings into a set\n",
        "\n",
        "strings_list = [\"apple\", \"banana\", \"cherry\", \"apple\", \"date\"]\n",
        "string_set = set(strings_list)\n",
        "string_set"
      ],
      "metadata": {
        "colab": {
          "base_uri": "https://localhost:8080/"
        },
        "id": "pHKr_9tEF4nm",
        "outputId": "b602015e-a615-4dcb-f8e3-b53e5283a024"
      },
      "execution_count": 37,
      "outputs": [
        {
          "output_type": "execute_result",
          "data": {
            "text/plain": [
              "{'apple', 'banana', 'cherry', 'date'}"
            ]
          },
          "metadata": {},
          "execution_count": 37
        }
      ]
    },
    {
      "cell_type": "code",
      "source": [],
      "metadata": {
        "id": "hoM02BesGGO3"
      },
      "execution_count": null,
      "outputs": []
    }
  ]
}