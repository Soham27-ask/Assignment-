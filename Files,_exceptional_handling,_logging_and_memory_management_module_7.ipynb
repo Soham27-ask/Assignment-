{
  "nbformat": 4,
  "nbformat_minor": 0,
  "metadata": {
    "colab": {
      "provenance": []
    },
    "kernelspec": {
      "name": "python3",
      "display_name": "Python 3"
    },
    "language_info": {
      "name": "python"
    }
  },
  "cells": [
    {
      "cell_type": "markdown",
      "source": [
        "Q1: What is the difference between interpreted and compiled languages?\n",
        "\n",
        "A: Interpreted languages (like Python) execute code line-by-line, while compiled languages (like C++) convert code into machine code before running. Compiled code runs faster, but interpreted code is more flexible."
      ],
      "metadata": {
        "id": "eHMV7dh3WrAy"
      }
    },
    {
      "cell_type": "markdown",
      "source": [
        "Q2: What is exception handling in Python?\n",
        "\n",
        "A: It’s a way to catch and handle runtime errors using try, except, else, and finally blocks to keep the program from crashing."
      ],
      "metadata": {
        "id": "H1eTymCGWyVf"
      }
    },
    {
      "cell_type": "markdown",
      "source": [
        "Q3: What is the purpose of the finally block in exception handling?\n",
        "\n",
        "A: The finally block runs no matter what—whether an exception was raised or not. It’s used for cleanup tasks like closing files."
      ],
      "metadata": {
        "id": "m46w4p9HW55J"
      }
    },
    {
      "cell_type": "markdown",
      "source": [
        "Q4: What is logging in Python?\n",
        "\n",
        "A: Logging is used to track events and errors in an application, making debugging and monitoring easier."
      ],
      "metadata": {
        "id": "SOa1OLeCW9fH"
      }
    },
    {
      "cell_type": "markdown",
      "source": [
        "Q5: What is the significance of the __del__ method in Python?\n",
        "\n",
        "A: __del__ is a destructor method called when an object is about to be destroyed. It’s used to clean up resources."
      ],
      "metadata": {
        "id": "sFPoaAxAXLiB"
      }
    },
    {
      "cell_type": "markdown",
      "source": [
        "Q6: What is the difference between import and from ... import in Python?\n",
        "\n",
        "A: import brings in the whole module; from module import x imports only specific parts directly."
      ],
      "metadata": {
        "id": "nj0oPXrCXS0G"
      }
    },
    {
      "cell_type": "markdown",
      "source": [
        "Q7: How can you handle multiple exceptions in Python?\n",
        "\n",
        "A: Use multiple except blocks or group exceptions in a tuple to handle several error types in one block."
      ],
      "metadata": {
        "id": "GWWLJp3KXZBW"
      }
    },
    {
      "cell_type": "markdown",
      "source": [
        "Q8: What is the purpose of the with statement when handling files in Python?\n",
        "\n",
        "A: with ensures that a file is properly closed after its suite finishes—even if exceptions occur."
      ],
      "metadata": {
        "id": "gTdeD9YgXecO"
      }
    },
    {
      "cell_type": "markdown",
      "source": [
        "Q9: What is the difference between multithreading and multiprocessing?\n",
        "\n",
        "A: Multithreading shares memory in one process and is good for I/O-bound tasks, while multiprocessing runs separate processes for CPU-bound tasks."
      ],
      "metadata": {
        "id": "qsuDbO2sXl_b"
      }
    },
    {
      "cell_type": "markdown",
      "source": [
        "Q10: What are the advantages of using logging in a program?\n",
        "\n",
        "A: Logging helps trace bugs, record events, monitor performance, and maintain logs for auditing."
      ],
      "metadata": {
        "id": "xHwlP88iXrio"
      }
    },
    {
      "cell_type": "markdown",
      "source": [
        "Q11: What is memory management in Python?\n",
        "\n",
        "A: It’s how Python handles memory allocation and deallocation using reference counting and garbage collection."
      ],
      "metadata": {
        "id": "tShWk4rbXyaz"
      }
    },
    {
      "cell_type": "markdown",
      "source": [
        "Q12: What are the basic steps involved in exception handling in Python?\n",
        "\n",
        "A: Wrap risky code in try, catch exceptions with except, optionally handle success in else, and clean up in finally."
      ],
      "metadata": {
        "id": "1K4GQDL4X38D"
      }
    },
    {
      "cell_type": "markdown",
      "source": [
        "Q13: Why is memory management important in Python?\n",
        "\n",
        "A: It ensures efficient use of memory, prevents memory leaks, and maintains program performance."
      ],
      "metadata": {
        "id": "LOOsvZFjX9in"
      }
    },
    {
      "cell_type": "markdown",
      "source": [
        "Q14: What is the role of try and except in exception handling?\n",
        "\n",
        "A: try defines a block of code to test for errors, and except lets you respond to specific exceptions."
      ],
      "metadata": {
        "id": "0M5x_O26YC0o"
      }
    },
    {
      "cell_type": "markdown",
      "source": [
        "Q15: How does Python's garbage collection system work?\n",
        "\n",
        "A: Python automatically frees unused memory using reference counting and a cyclic garbage collector for circular references."
      ],
      "metadata": {
        "id": "64n8CokRYIdA"
      }
    },
    {
      "cell_type": "markdown",
      "source": [
        "Q16: What is the purpose of the else block in exception handling?\n",
        "\n",
        "A: The else block runs if no exception occurs in the try block, often used for code that should run on success."
      ],
      "metadata": {
        "id": "IJ2MVIVcYNx0"
      }
    },
    {
      "cell_type": "markdown",
      "source": [
        "Q17: What are the common logging levels in Python?\n",
        "\n",
        "A: DEBUG, INFO, WARNING, ERROR, and CRITICAL, indicating increasing severity."
      ],
      "metadata": {
        "id": "8oO4r_lsYSoT"
      }
    },
    {
      "cell_type": "markdown",
      "source": [
        "Q18: What is the difference between os.fork() and multiprocessing in Python?\n",
        "\n",
        "A: os.fork() creates a child process on Unix, while multiprocessing is cross-platform and uses separate memory space."
      ],
      "metadata": {
        "id": "Z1Y6KAwdYXqy"
      }
    },
    {
      "cell_type": "markdown",
      "source": [
        "Q19: What is the importance of closing a file in Python?\n",
        "\n",
        "A: It ensures data is saved, resources are released, and file corruption is avoided."
      ],
      "metadata": {
        "id": "20tlQTNAYenx"
      }
    },
    {
      "cell_type": "markdown",
      "source": [
        "Q20: What is the difference between file.read() and file.readline() in Python?\n",
        "\n",
        "A: read() gets the whole file at once; readline() reads just one line at a time."
      ],
      "metadata": {
        "id": "hGciWxV-Yjm3"
      }
    },
    {
      "cell_type": "markdown",
      "source": [
        "Q21: What is the logging module in Python used for?\n",
        "\n",
        "A: It provides tools to write log messages to files, the console, or other outputs for debugging and tracking."
      ],
      "metadata": {
        "id": "p6bzGhY3Yshm"
      }
    },
    {
      "cell_type": "markdown",
      "source": [
        "Q22: What is the os module in Python used for in file handling?\n",
        "\n",
        "A: It offers functions to interact with the operating system like navigating directories, handling paths, and managing files."
      ],
      "metadata": {
        "id": "jZDsJqaSYzcl"
      }
    },
    {
      "cell_type": "markdown",
      "source": [
        "Q23: What are the challenges associated with memory management in Python?\n",
        "\n",
        "A: Challenges include circular references, memory leaks, and performance overhead from garbage collection."
      ],
      "metadata": {
        "id": "e99ZLpEzY5c7"
      }
    },
    {
      "cell_type": "markdown",
      "source": [
        "Q24: How do you raise an exception manually in Python?\n",
        "\n",
        "A: Use the raise statement, e.g., raise ValueError(\"Invalid input\")."
      ],
      "metadata": {
        "id": "u_k6if8oY-Tq"
      }
    },
    {
      "cell_type": "markdown",
      "source": [
        "Q25: Why is it important to use multithreading in certain applications?\n",
        "\n",
        "A: Multithreading improves responsiveness and performance in I/O-heavy or concurrent tasks."
      ],
      "metadata": {
        "id": "ezQQDqSvZEd0"
      }
    },
    {
      "cell_type": "markdown",
      "source": [
        "Practical Questions"
      ],
      "metadata": {
        "id": "Bxz6uB1MZJlq"
      }
    },
    {
      "cell_type": "code",
      "source": [
        "# 1 How can you open a file for writing in Python and write a string to it?\n",
        "\n",
        "\n",
        "file_content = \"This is the content I want to write to the file.\\n\"\n",
        "\n",
        "# Open a file named 'example_write.txt' in write mode ('w')\n",
        "with open('example_write.txt', 'w') as f:\n",
        "    # Write the string to the file\n",
        "    f.write(file_content)\n",
        "\n",
        "print(\"Content written to example_write.txt\")\n",
        "\n"
      ],
      "metadata": {
        "colab": {
          "base_uri": "https://localhost:8080/"
        },
        "id": "8En3k-s8ZQNz",
        "outputId": "14fd826a-0dd1-4590-fc6e-234218f02729"
      },
      "execution_count": null,
      "outputs": [
        {
          "output_type": "stream",
          "name": "stdout",
          "text": [
            "Content written to example_write.txt\n"
          ]
        }
      ]
    },
    {
      "cell_type": "code",
      "source": [
        "# prompt: 2 Write a Python program to read the contents of a file and print each line.\n",
        "\n",
        "with open('filename.txt', 'r') as file:\n",
        "  for line in file:\n",
        "    print(line, end='')"
      ],
      "metadata": {
        "colab": {
          "base_uri": "https://localhost:8080/",
          "height": 211
        },
        "id": "8vchjGYPZmo1",
        "outputId": "09d8d8c3-cb23-484b-b53d-eb197570e716"
      },
      "execution_count": null,
      "outputs": [
        {
          "output_type": "error",
          "ename": "FileNotFoundError",
          "evalue": "[Errno 2] No such file or directory: 'filename.txt'",
          "traceback": [
            "\u001b[0;31m---------------------------------------------------------------------------\u001b[0m",
            "\u001b[0;31mFileNotFoundError\u001b[0m                         Traceback (most recent call last)",
            "\u001b[0;32m/tmp/ipython-input-12-2158944496.py\u001b[0m in \u001b[0;36m<cell line: 0>\u001b[0;34m()\u001b[0m\n\u001b[1;32m      1\u001b[0m \u001b[0;31m# prompt: 2 Write a Python program to read the contents of a file and print each line.\u001b[0m\u001b[0;34m\u001b[0m\u001b[0;34m\u001b[0m\u001b[0m\n\u001b[1;32m      2\u001b[0m \u001b[0;34m\u001b[0m\u001b[0m\n\u001b[0;32m----> 3\u001b[0;31m \u001b[0;32mwith\u001b[0m \u001b[0mopen\u001b[0m\u001b[0;34m(\u001b[0m\u001b[0;34m'filename.txt'\u001b[0m\u001b[0;34m,\u001b[0m \u001b[0;34m'r'\u001b[0m\u001b[0;34m)\u001b[0m \u001b[0;32mas\u001b[0m \u001b[0mfile\u001b[0m\u001b[0;34m:\u001b[0m\u001b[0;34m\u001b[0m\u001b[0;34m\u001b[0m\u001b[0m\n\u001b[0m\u001b[1;32m      4\u001b[0m   \u001b[0;32mfor\u001b[0m \u001b[0mline\u001b[0m \u001b[0;32min\u001b[0m \u001b[0mfile\u001b[0m\u001b[0;34m:\u001b[0m\u001b[0;34m\u001b[0m\u001b[0;34m\u001b[0m\u001b[0m\n\u001b[1;32m      5\u001b[0m     \u001b[0mprint\u001b[0m\u001b[0;34m(\u001b[0m\u001b[0mline\u001b[0m\u001b[0;34m,\u001b[0m \u001b[0mend\u001b[0m\u001b[0;34m=\u001b[0m\u001b[0;34m''\u001b[0m\u001b[0;34m)\u001b[0m\u001b[0;34m\u001b[0m\u001b[0;34m\u001b[0m\u001b[0m\n",
            "\u001b[0;31mFileNotFoundError\u001b[0m: [Errno 2] No such file or directory: 'filename.txt'"
          ]
        }
      ]
    },
    {
      "cell_type": "code",
      "source": [
        "# prompt: 3 How would you handle a case where the file doesn't exist while trying to open it for reading?.\n",
        "\n",
        "try:\n",
        "  with open('non_existent_file.txt', 'r') as file:\n",
        "    for line in file:\n",
        "      print(line, end='')\n",
        "except FileNotFoundError:\n",
        "  print(\"Error: The file was not found.\")\n"
      ],
      "metadata": {
        "id": "PmGPyrlaZzyB"
      },
      "execution_count": null,
      "outputs": []
    },
    {
      "cell_type": "code",
      "source": [
        "# prompt: 4 Write a Python script that reads from one file and writes its content to another file.\n",
        "\n",
        "# Write the content of filename.txt to another file\n",
        "try:\n",
        "  with open('filename.txt', 'r') as infile, open('output.txt', 'w') as outfile:\n",
        "    for line in infile:\n",
        "      outfile.write(line)\n",
        "  print(\"Content successfully written to output.txt\")\n",
        "except FileNotFoundError:\n",
        "  print(\"Error: The file 'filename.txt' was not found.\")\n",
        "except Exception as e:\n",
        "  print(f\"An error occurred: {e}\")"
      ],
      "metadata": {
        "id": "M-Bu058xaAs0"
      },
      "execution_count": null,
      "outputs": []
    },
    {
      "cell_type": "code",
      "source": [
        "# prompt: 5 How would you catch and handle division by zero error in Python?\n",
        "\n",
        "try:\n",
        "  numerator = 10\n",
        "  denominator = 0\n",
        "  result = numerator / denominator\n",
        "  print(result)\n",
        "except ZeroDivisionError:\n",
        "  print(\"Error: Cannot divide by zero!\")\n"
      ],
      "metadata": {
        "id": "HuTvPJG2aHzb"
      },
      "execution_count": null,
      "outputs": []
    },
    {
      "cell_type": "code",
      "source": [
        "# prompt: 6 Write a Python program that logs an error message to a log file when a division by zero exception occurs. beginner\n",
        "\n",
        "import logging\n",
        "\n",
        "# Configure logging to write error messages to a file\n",
        "logging.basicConfig(filename='error.log', level=logging.ERROR, format='%(asctime)s:%(levelname)s:%(message)s')\n",
        "\n",
        "try:\n",
        "  numerator = 10\n",
        "  denominator = 0\n",
        "  result = numerator / denominator\n",
        "  print(result)\n",
        "except ZeroDivisionError:\n",
        "  logging.error(\"Attempted to divide by zero!\")\n",
        "  print(\"Error: Cannot divide by zero. An error has been logged.\")\n"
      ],
      "metadata": {
        "id": "joy65oKValwv"
      },
      "execution_count": null,
      "outputs": []
    },
    {
      "cell_type": "code",
      "source": [
        "# prompt: 7 How do you log information at different levels (INFO, ERROR, WARNING) in Python using the logging module?\n",
        "\n",
        "# Configure basic logging to the console\n",
        "logging.basicConfig(level=logging.DEBUG, format='%(asctime)s - %(name)s - %(levelname)s - %(message)s')\n",
        "\n",
        "# Log messages at different levels\n",
        "logging.debug('This is a debug message.')\n",
        "logging.info('This is an info message.')\n",
        "logging.warning('This is a warning message.')\n",
        "logging.error('This is an error message.')\n",
        "logging.critical('This is a critical message.')\n"
      ],
      "metadata": {
        "id": "wJnMiASUbH07"
      },
      "execution_count": null,
      "outputs": []
    },
    {
      "cell_type": "code",
      "source": [
        "# prompt: 8Write a program to handle a file opening error using exception handling.\n",
        "\n",
        "try:\n",
        "  # Attempt to open a file that may not exist\n",
        "  with open('another_non_existent_file.txt', 'r') as file:\n",
        "    for line in file:\n",
        "      print(line, end='')\n",
        "except FileNotFoundError:\n",
        "  print(\"Error: Could not open the specified file.\")\n",
        "except Exception as e:\n",
        "  # Catch any other potential exceptions during file handling\n",
        "  print(f\"An unexpected error occurred: {e}\")\n"
      ],
      "metadata": {
        "id": "pZt45nXbbbWV"
      },
      "execution_count": null,
      "outputs": []
    },
    {
      "cell_type": "code",
      "source": [
        "# prompt: 9 How can you read a file line by line and store its content in a list in Python?\n",
        "\n",
        "def read_file_to_list(filename):\n",
        "  \"\"\"Reads a file line by line and stores content in a list.\n",
        "\n",
        "  Args:\n",
        "    filename: The name of the file to read.\n",
        "\n",
        "  Returns:\n",
        "    A list where each element is a line from the file.\n",
        "    Returns an empty list if the file is not found.\n",
        "  \"\"\"\n",
        "  lines = []\n",
        "  try:\n",
        "    with open(filename, 'r') as file:\n",
        "      for line in file:\n",
        "        lines.append(line.strip()) # Use strip() to remove trailing newline characters\n",
        "  except FileNotFoundError:\n",
        "    print(f\"Error: The file '{filename}' was not found.\")\n",
        "  return lines\n",
        "\n",
        "# Example usage:\n",
        "file_lines = read_file_to_list('filename.txt')\n",
        "print(\"File content as a list:\")\n",
        "print(file_lines)\n",
        "\n",
        "# Example with a non-existent file\n",
        "non_existent_lines = read_file_to_list('non_existent.txt')\n",
        "print(\"Content of non_existent.txt:\", non_existent_lines)\n"
      ],
      "metadata": {
        "id": "1PlHoVFbbhWV"
      },
      "execution_count": null,
      "outputs": []
    },
    {
      "cell_type": "code",
      "source": [
        "# prompt: 10 How can you append data to an existing file in Python?\n",
        "# Define the content to append\n",
        "append_content = \"\\nThis is new content appended to the file.\"\n",
        "\n",
        "# Open 'filename.txt' in append mode ('a')\n",
        "with open('filename.txt', 'a') as f:\n",
        "    # Append the new content to the file\n",
        "    f.write(append_content)\n",
        "\n",
        "print(\"Content appended to filename.txt\")\n",
        "\n",
        "# Optional: Read the file again to verify the content\n",
        "print(\"\\nUpdated content of filename.txt:\")\n",
        "with open('filename.txt', 'r') as file:\n",
        "  for line in file:\n",
        "    print(line, end='')\n",
        "\n"
      ],
      "metadata": {
        "id": "hirLiOp2bze-"
      },
      "execution_count": null,
      "outputs": []
    },
    {
      "cell_type": "code",
      "source": [
        "# prompt: 11 Write a Python program that uses a try-except block to handle an error when attempting to access a\n",
        "# dictionary key that doesn't exist.\n",
        "\n",
        "my_dict = {\"apple\": 1, \"banana\": 2}\n",
        "\n",
        "try:\n",
        "  value = my_dict[\"cherry\"]\n",
        "  print(f\"The value is: {value}\")\n",
        "except KeyError:\n",
        "  print(\"Error: The key 'cherry' does not exist in the dictionary.\")"
      ],
      "metadata": {
        "id": "AZyU96qHb541"
      },
      "execution_count": null,
      "outputs": []
    },
    {
      "cell_type": "code",
      "source": [
        "# prompt: 12 Write a program that demonstrates using multiple except blocks to handle different types of exceptions.\n",
        "\n",
        "def divide_and_access_list():\n",
        "  \"\"\"Demonstrates handling ZeroDivisionError and IndexError using multiple except blocks.\"\"\"\n",
        "  try:\n",
        "    # Potentially cause a ZeroDivisionError\n",
        "    numerator = 10\n",
        "    denominator = 0\n",
        "    result = numerator / denominator\n",
        "    print(f\"Result of division: {result}\")\n",
        "\n",
        "    # Potentially cause an IndexError\n",
        "    my_list = [1, 2, 3]\n",
        "    item = my_list[5]\n",
        "    print(f\"Item from list: {item}\")\n",
        "\n",
        "  except ZeroDivisionError:\n",
        "    print(\"Caught ZeroDivisionError: Cannot divide by zero!\")\n",
        "  except IndexError:\n",
        "    print(\"Caught IndexError: List index out of range!\")\n",
        "  except Exception as e:\n",
        "    # A general exception handler for any other unexpected errors\n",
        "    print(f\"Caught an unexpected error: {e}\")\n",
        "\n",
        "# Call the function to demonstrate the exception handling\n",
        "divide_and_access_list()\n",
        "\n",
        "def process_input(value):\n",
        "  \"\"\"Demonstrates handling ValueError and TypeError.\"\"\"\n",
        "  try:\n",
        "    # Attempt to convert the input to an integer\n",
        "    int_value = int(value)\n",
        "    print(f\"Successfully converted to integer: {int_value}\")\n",
        "\n",
        "    # Perform an operation that might cause a TypeError if the type is incorrect\n",
        "    # (though int() conversion usually prevents this specific case if successful)\n",
        "    # Let's simulate another potential error based on value\n",
        "    if int_value < 0:\n",
        "        raise ValueError(\"Input must be a non-negative number.\")\n",
        "\n",
        "  except ValueError as ve:\n",
        "    print(f\"Caught ValueError: Could not convert '{value}' to an integer or input is negative. Details: {ve}\")\n",
        "  except TypeError as te:\n",
        "    print(f\"Caught TypeError: Invalid type for the operation. Details: {te}\")\n",
        "  except Exception as e:\n",
        "      print(f\"Caught an unexpected error: {e}\")\n",
        "\n",
        "\n",
        "# Example calls to demonstrate different exceptions\n",
        "process_input(\"hello\") # Will raise ValueError\n",
        "process_input(10)     # Will not raise exception (if no negative check) or raise ValueError if negative\n",
        "process_input(-5)    # Will raise ValueError if negative check is included\n",
        "# process_input([1, 2]) # Uncommenting this would raise a TypeError in int()\n",
        "\n"
      ],
      "metadata": {
        "id": "kgFrAtuFcBWP"
      },
      "execution_count": null,
      "outputs": []
    },
    {
      "cell_type": "code",
      "source": [
        "# prompt: 13 How would you check if a file exists before attempting to read it in Python?\n",
        "\n",
        "import os\n",
        "\n",
        "file_path = 'my_file.txt'\n",
        "\n",
        "if os.path.exists(file_path):\n",
        "  print(f\"The file '{file_path}' exists.\")\n",
        "  try:\n",
        "    with open(file_path, 'r') as file:\n",
        "      # Read the file content here\n",
        "      content = file.read()\n",
        "      print(\"File content:\")\n",
        "      print(content)\n",
        "  except Exception as e:\n",
        "    print(f\"An error occurred while reading the file: {e}\")\n",
        "else:\n",
        "  print(f\"The file '{file_path}' does not exist.\")\n",
        "  # You can choose to create the file or handle the absence differently\n",
        "  # Example: Create an empty file if it doesn't exist\n",
        "  # try:\n",
        "  #   with open(file_path, 'w') as file:\n",
        "  #     print(f\"Created an empty file '{file_path}'.\")\n",
        "  # except Exception as e:\n",
        "  #    print(f\"An error occurred while creating the file: {e}\")"
      ],
      "metadata": {
        "id": "Jil44zyCcVGF"
      },
      "execution_count": null,
      "outputs": []
    },
    {
      "cell_type": "code",
      "source": [
        "# prompt: 14 Write a program that uses the logging module to log both informational and error messages.\n",
        "\n",
        "# Configure logging to write messages to a file and the console\n",
        "logging.basicConfig(\n",
        "    level=logging.INFO,  # Set the lowest logging level to INFO\n",
        "    format='%(asctime)s - %(name)s - %(levelname)s - %(message)s',\n",
        "    handlers=[\n",
        "        logging.FileHandler(\"application.log\"),  # Log to a file\n",
        "        logging.StreamHandler()  # Log to the console\n",
        "    ]\n",
        ")\n",
        "\n",
        "def perform_risky_operation(data):\n",
        "  \"\"\"\n",
        "  Performs an operation that might cause an error.\n",
        "  Logs informational messages during execution and an error if an issue occurs.\n",
        "  \"\"\"\n",
        "  logging.info(\"Attempting to process data...\")\n",
        "  try:\n",
        "    result = 10 / int(data) # Potential ZeroDivisionError or ValueError\n",
        "    logging.info(f\"Data processed successfully. Result: {result}\")\n",
        "    return result\n",
        "  except (ValueError, ZeroDivisionError) as e:\n",
        "    logging.error(f\"An error occurred while processing data: {e}\", exc_info=True)\n",
        "    return None\n",
        "\n",
        "# Example usage:\n",
        "print(\"Processing valid data...\")\n",
        "perform_risky_operation(5)\n",
        "\n",
        "print(\"\\nProcessing invalid data (causing error)...\")\n",
        "perform_risky_operation(0)\n",
        "\n",
        "print(\"\\nProcessing non-numeric data (causing error)...\")\n",
        "perform_risky_operation(\"abc\")\n",
        "\n",
        "# You can now check the console output and the 'application.log' file for the logs."
      ],
      "metadata": {
        "id": "n-ZbmMMHcZR5"
      },
      "execution_count": null,
      "outputs": []
    },
    {
      "cell_type": "code",
      "source": [
        "# prompt: 15 Write a Python program that prints the content of a file and handles the case when the file is empty.\n",
        "\n",
        "def print_file_content(filename):\n",
        "  \"\"\"\n",
        "  Prints the content of a file and handles the case when the file is empty.\n",
        "\n",
        "  Args:\n",
        "    filename: The path to the file.\n",
        "  \"\"\"\n",
        "  try:\n",
        "    with open(filename, 'r') as file:\n",
        "      content = file.read()\n",
        "      if not content:\n",
        "        print(f\"The file '{filename}' is empty.\")\n",
        "      else:\n",
        "        print(f\"Content of '{filename}':\")\n",
        "        print(content)\n",
        "  except FileNotFoundError:\n",
        "    print(f\"Error: The file '{filename}' was not found.\")\n",
        "  except Exception as e:\n",
        "    print(f\"An error occurred while reading the file: {e}\")\n",
        "\n",
        "# Example usage:\n",
        "# Create a dummy file for demonstration\n",
        "with open('dummy_file.txt', 'w') as f:\n",
        "    f.write(\"This is some content.\\nAnother line.\")\n",
        "\n",
        "with open('empty_file.txt', 'w') as f:\n",
        "    pass # Create an empty file\n",
        "\n",
        "print_file_content('dummy_file.txt')\n",
        "print(\"-\" * 20)\n",
        "print_file_content('empty_file.txt')\n",
        "print(\"-\" * 20)\n",
        "print_file_content('non_existent_file_for_q15.txt')"
      ],
      "metadata": {
        "id": "IGZdDUr6cgu4"
      },
      "execution_count": null,
      "outputs": []
    },
    {
      "cell_type": "code",
      "source": [
        "# prompt: 16 Demonstrate how to use memory profiling to check the memory usage of a small program.\n",
        "\n",
        "!pip install -q memory_profiler\n",
        "%load_ext memory_profiler\n",
        "\n",
        "def my_small_program():\n",
        "  \"\"\"A simple program to demonstrate memory usage.\"\"\"\n",
        "  data = [i for i in range(1000000)]\n",
        "  more_data = [i * 2 for i in range(1000000)]\n",
        "  del data\n",
        "  return more_data\n",
        "\n",
        "%memit my_small_program()\n"
      ],
      "metadata": {
        "id": "Wl9HhsAmcnjw"
      },
      "execution_count": null,
      "outputs": []
    },
    {
      "cell_type": "code",
      "source": [
        "# prompt: 17 Write a Python program to create and write a list of numbers to a file, one number per line.\n",
        "\n",
        "numbers = [10, 20, 30, 40, 50]\n",
        "file_path = 'numbers.txt'\n",
        "\n",
        "try:\n",
        "  with open(file_path, 'w') as file:\n",
        "    for number in numbers:\n",
        "      file.write(str(number) + '\\n')\n",
        "  print(f\"Successfully wrote numbers to '{file_path}'.\")\n",
        "except Exception as e:\n",
        "  print(f\"An error occurred while writing to the file: {e}\")"
      ],
      "metadata": {
        "id": "VOmdLvKac4oy"
      },
      "execution_count": null,
      "outputs": []
    },
    {
      "cell_type": "code",
      "source": [
        "# prompt: 18  How would you implement a basic logging setup that logs to a file with rotation after 1MB?\n",
        "\n",
        "import logging\n",
        "from logging.handlers import RotatingFileHandler\n",
        "import os\n",
        "\n",
        "# Define the log file path\n",
        "log_file = 'application_rotating.log'\n",
        "\n",
        "# Configure a rotating file handler\n",
        "# maxBytes=1024*1024 (1MB), backupCount=5 means keep up to 5 old log files\n",
        "handler = RotatingFileHandler(log_file, maxBytes=1024*1024, backupCount=5)\n",
        "\n",
        "# Create a formatter\n",
        "formatter = logging.Formatter('%(asctime)s - %(name)s - %(levelname)s - %(message)s')\n",
        "\n",
        "# Set the formatter for the handler\n",
        "handler.setFormatter(formatter)\n",
        "\n",
        "# Get the root logger (or a specific logger)\n",
        "logger = logging.getLogger() # Get the root logger\n",
        "logger.setLevel(logging.INFO) # Set the logging level\n",
        "\n",
        "# Add the handler to the logger\n",
        "logger.addHandler(handler)\n",
        "\n",
        "# You can optionally add a stream handler to also see logs in the console\n",
        "# stream_handler = logging.StreamHandler()\n",
        "# stream_handler.setFormatter(formatter)\n",
        "# logger.addHandler(stream_handler)\n",
        "\n",
        "\n",
        "# Example usage:\n",
        "print(f\"Logging to {log_file} with rotation every 1MB.\")\n",
        "logger.info(\"This is an informational message.\")\n",
        "logger.warning(\"This is a warning message.\")\n",
        "logger.error(\"This is an error message.\")\n",
        "\n",
        "# Simulate writing enough data to trigger rotation (multiple times if needed)\n",
        "# You would need to write significantly more data than 1MB to test rotation properly\n",
        "# This loop is just for demonstration and might not be enough to trigger it in a small test\n",
        "for i in range(10000):\n",
        "  logger.debug(f\"Writing some data to test rotation. Line {i}\") # Use debug level if level is set lower\n",
        "\n",
        "# To see rotation, you'd need to continuously write logs until the file size exceeds 1MB.\n",
        "# You can manually check the file size and the created backup files (e.g., application_rotating.log.1, application_rotating.log.2)\n",
        "\n",
        "print(\"Logging setup complete. Check the log file for output.\")"
      ],
      "metadata": {
        "id": "lhKX2f5VdBw-"
      },
      "execution_count": null,
      "outputs": []
    },
    {
      "cell_type": "code",
      "source": [
        "# prompt: 19 Write a program that handles both IndexError and KeyError using a try-except block.\n",
        "\n",
        "def handle_errors(my_list, my_dict, list_index, dict_key):\n",
        "  \"\"\"Handles both IndexError and KeyError using a try-except block.\"\"\"\n",
        "  try:\n",
        "    # Attempt to access list element (potential IndexError)\n",
        "    list_item = my_list[list_index]\n",
        "    print(f\"Accessed list item at index {list_index}: {list_item}\")\n",
        "\n",
        "    # Attempt to access dictionary value (potential KeyError)\n",
        "    dict_value = my_dict[dict_key]\n",
        "    print(f\"Accessed dictionary value with key '{dict_key}': {dict_value}\")\n",
        "\n",
        "  except IndexError:\n",
        "    print(f\"Caught IndexError: List index {list_index} is out of range!\")\n",
        "  except KeyError:\n",
        "    print(f\"Caught KeyError: Dictionary does not contain key '{dict_key}'!\")\n",
        "  except Exception as e:\n",
        "    # Optional: Catch any other unexpected exceptions\n",
        "    print(f\"Caught an unexpected error: {e}\")\n",
        "\n",
        "# Example usage:\n",
        "my_list = [10, 20, 30]\n",
        "my_dict = {\"a\": 1, \"b\": 2}\n",
        "\n",
        "print(\"Attempting valid access:\")\n",
        "handle_errors(my_list, my_dict, 1, \"b\") # Should work\n",
        "\n",
        "print(\"\\nAttempting invalid list index:\")\n",
        "handle_errors(my_list, my_dict, 5, \"a\") # Should raise IndexError\n",
        "\n",
        "print(\"\\nAttempting invalid dictionary key:\")\n",
        "handle_errors(my_list, my_dict, 0, \"c\") # Should raise KeyError\n",
        "\n",
        "print(\"\\nAttempting both invalid index and key (will catch the first one encountered):\")\n",
        "handle_errors(my_list, my_dict, 5, \"c\") # Should raise IndexError (as it's checked first)"
      ],
      "metadata": {
        "id": "TGeUiiIFdJMi"
      },
      "execution_count": null,
      "outputs": []
    },
    {
      "cell_type": "code",
      "source": [
        "# prompt: 20F How would you open a file and read its contents using a context manager in Python?\n",
        "\n",
        "\n",
        "filename = 'filename.txt' # Replace with the actual filename\n",
        "\n",
        "try:\n",
        "  # Use a context manager (with statement) to open the file\n",
        "  with open(filename, 'r') as file:\n",
        "    # Read the entire contents of the file\n",
        "    contents = file.read()\n",
        "    print(f\"Contents of '{filename}':\")\n",
        "    print(contents)\n",
        "\n",
        "    # Alternatively, you can read line by line\n",
        "    # for line in file:\n",
        "    #   print(line, end='') # end='' prevents adding extra newlines\n",
        "except FileNotFoundError:\n",
        "  print(f\"Error: The file '{filename}' was not found.\")\n",
        "except Exception as e:\n",
        "  print(f\"An error occurred while reading the file: {e}\")\n",
        "\n"
      ],
      "metadata": {
        "id": "pCFZdEOodQx4"
      },
      "execution_count": null,
      "outputs": []
    },
    {
      "cell_type": "code",
      "source": [
        "# prompt: 21 Write a Python program that reads a file and prints the number of occurrences of a specific word.\n",
        "\n",
        "def count_word_occurrences(filename, word):\n",
        "  \"\"\"\n",
        "  Reads a file and counts the number of occurrences of a specific word.\n",
        "\n",
        "  Args:\n",
        "    filename: The path to the file.\n",
        "    word: The word to count.\n",
        "\n",
        "  Returns:\n",
        "    The number of occurrences of the word. Returns 0 if the file is not found\n",
        "    or if the word is not found.\n",
        "  \"\"\"\n",
        "  count = 0\n",
        "  try:\n",
        "    with open(filename, 'r') as file:\n",
        "      # Read the entire content and convert to lowercase for case-insensitive matching\n",
        "      content = file.read().lower()\n",
        "      # Count the occurrences of the word (also converted to lowercase)\n",
        "      count = content.count(word.lower())\n",
        "  except FileNotFoundError:\n",
        "    print(f\"Error: The file '{filename}' was not found.\")\n",
        "  except Exception as e:\n",
        "    print(f\"An error occurred while reading the file: {e}\")\n",
        "  return count\n",
        "\n",
        "# Example usage:\n",
        "filename = 'filename.txt' # Replace with your actual filename\n",
        "word_to_find = 'python'    # Replace with the word you want to count\n",
        "\n",
        "occurrences = count_word_occurrences(filename, word_to_find)\n",
        "print(f\"The word '{word_to_find}' appears {occurrences} times in '{filename}'.\")\n",
        "\n",
        "# Example with a word that might not be in the file\n",
        "word_to_find_2 = 'java'\n",
        "occurrences_2 = count_word_occurrences(filename, word_to_find_2)\n",
        "print(f\"The word '{word_to_find_2}' appears {occurrences_2} times in '{filename}'.\")\n",
        "\n",
        "# Example with a non-existent file\n",
        "occurrences_3 = count_word_occurrences('non_existent_file.txt', 'word')\n"
      ],
      "metadata": {
        "id": "rsIzoUpBdd3e"
      },
      "execution_count": null,
      "outputs": []
    },
    {
      "cell_type": "code",
      "source": [
        "# prompt: 22  How can you check if a file is empty before attempting to read its contents?\n",
        "\n",
        "def is_file_empty(filepath):\n",
        "  \"\"\"\n",
        "  Checks if a file is empty by checking its size.\n",
        "\n",
        "  Args:\n",
        "    filepath: The path to the file.\n",
        "\n",
        "  Returns:\n",
        "    True if the file exists and is empty, False otherwise.\n",
        "    Returns False if the file does not exist.\n",
        "  \"\"\"\n",
        "  if not os.path.exists(filepath):\n",
        "    print(f\"Warning: File '{filepath}' not found.\")\n",
        "    return False # File doesn't exist, so it's not empty in the sense of being readable\n",
        "\n",
        "  try:\n",
        "    return os.path.getsize(filepath) == 0\n",
        "  except Exception as e:\n",
        "    print(f\"An error occurred while checking file size: {e}\")\n",
        "    return False # Assume not empty if size check fails\n",
        "\n",
        "# Example usage:\n",
        "empty_filepath = 'my_empty_file.txt'\n",
        "non_empty_filepath = 'filename.txt' # Assuming this file has content\n",
        "non_existent_filepath = 'does_not_exist.txt'\n",
        "\n",
        "# Create an empty file for demonstration\n",
        "with open(empty_filepath, 'w') as f:\n",
        "  pass\n",
        "\n",
        "print(f\"Is '{empty_filepath}' empty? {is_file_empty(empty_filepath)}\")\n",
        "print(f\"Is '{non_empty_filepath}' empty? {is_file_empty(non_empty_filepath)}\")\n",
        "print(f\"Is '{non_existent_filepath}' empty? {is_file_empty(non_existent_filepath)}\")\n",
        "\n",
        "# Another way using file reading and checking for content\n",
        "def is_file_empty_by_reading(filepath):\n",
        "  \"\"\"\n",
        "  Checks if a file is empty by attempting to read its first character.\n",
        "\n",
        "  Args:\n",
        "    filepath: The path to the file.\n",
        "\n",
        "  Returns:\n",
        "    True if the file exists and has no readable content, False otherwise.\n",
        "    Returns False if the file does not exist.\n",
        "  \"\"\"\n",
        "  if not os.path.exists(filepath):\n",
        "    print(f\"Warning: File '{filepath}' not found.\")\n",
        "    return False\n",
        "\n",
        "  try:\n",
        "    with open(filepath, 'r') as file:\n",
        "      # Attempt to read one character. If successful, file is not empty.\n",
        "      # If read() returns an empty string, the file is empty.\n",
        "      content = file.read(1)\n",
        "      return not content\n",
        "  except Exception as e:\n",
        "    print(f\"An error occurred while reading the file: {e}\")\n",
        "    return False # Assume not empty if reading fails\n",
        "\n",
        "print(\"\\nChecking emptiness by reading:\")\n",
        "print(f\"Is '{empty_filepath}' empty? {is_file_empty_by_reading(empty_filepath)}\")\n",
        "print(f\"Is '{non_empty_filepath}' empty? {is_file_empty_by_reading(non_empty_filepath)}\")\n",
        "print(f\"Is '{non_existent_filepath}' empty? {is_file_empty_by_reading(non_existent_filepath)}\")\n",
        "\n",
        "# Clean up dummy file\n",
        "os.remove(empty_filepath)\n"
      ],
      "metadata": {
        "id": "qbi_awvidk16"
      },
      "execution_count": null,
      "outputs": []
    },
    {
      "cell_type": "code",
      "source": [
        "# prompt: 23 Write a Python program that writes to a log file when an error occurs during file handling.\n",
        "\n",
        "for handler in logging.root.handlers[:]:\n",
        "    logging.root.removeHandler(handler)\n",
        "\n",
        "logging.basicConfig(filename='file_handling_errors.log', level=logging.ERROR, format='%(asctime)s:%(levelname)s:%(message)s')\n",
        "\n",
        "\n",
        "def read_and_log_on_error(filename):\n",
        "  \"\"\"\n",
        "  Attempts to read a file and logs an error if file handling fails.\n",
        "\n",
        "  Args:\n",
        "    filename: The name of the file to attempt to read.\n",
        "  \"\"\"\n",
        "  try:\n",
        "    with open(filename, 'r') as file:\n",
        "      print(f\"Successfully opened '{filename}' for reading.\")\n",
        "      # Optional: Read and print some content\n",
        "      # content = file.read(100) # Read first 100 characters\n",
        "      # print(f\"First part of content: {content}...\")\n",
        "      pass # Just opening the file is enough to demonstrate error handling\n",
        "\n",
        "  except FileNotFoundError:\n",
        "    logging.error(f\"FileNotFoundError: Failed to open '{filename}'. The file does not exist.\")\n",
        "    print(f\"Error: File '{filename}' not found. An error has been logged.\")\n",
        "\n",
        "  except IOError as e:\n",
        "    # Catch other potential I/O errors (e.g., permission issues)\n",
        "    logging.error(f\"IOError: Failed to handle file '{filename}'. Details: {e}\")\n",
        "    print(f\"Error: An I/O error occurred with file '{filename}'. Details: {e}. An error has been logged.\")\n",
        "\n",
        "  except Exception as e:\n",
        "    # Catch any other unexpected errors during file handling\n",
        "    logging.error(f\"Unexpected Error: Failed to handle file '{filename}'. Details: {e}\", exc_info=True)\n",
        "    print(f\"Error: An unexpected error occurred with file '{filename}'. Details: {e}. An error has been logged.\")\n",
        "  finally:\n",
        "      print(f\"Attempted file operation on '{filename}'.\")\n",
        "\n",
        "\n",
        "# Example usage:\n",
        "\n",
        "# This should succeed (assuming 'filename.txt' exists from previous code)\n",
        "read_and_log_on_error('filename.txt')\n",
        "\n",
        "print(\"-\" * 20)\n",
        "\n",
        "# This should fail and log an error\n",
        "read_and_log_on_error('this_file_definitely_does_not_exist_123xyz.txt')\n",
        "\n",
        "# To see the log entries, you can either open 'file_handling_errors.log' in the file browser\n",
        "# or read it programmatically:\n",
        "print(\"\\nContent of file_handling_errors.log:\")\n",
        "try:\n",
        "    with open('file_handling_errors.log', 'r') as log_file:\n",
        "        print(log_file.read())\n",
        "except FileNotFoundError:\n",
        "    print(\"Log file 'file_handling_errors.log' not found yet (no errors occurred).\")\n",
        "\n"
      ],
      "metadata": {
        "id": "0A0PHCQMdtKD"
      },
      "execution_count": null,
      "outputs": []
    }
  ]
}