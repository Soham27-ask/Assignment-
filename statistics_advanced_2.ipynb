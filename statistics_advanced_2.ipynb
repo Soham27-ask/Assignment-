{
 "cells": [
  {
   "cell_type": "markdown",
   "id": "ecc86b5e",
   "metadata": {},
   "source": [
    "# Statistics Advanced – 2 (DA-AG-007)\n",
    "**Total Marks: 100**\n",
    "\n",
    "Below are Q&A and runnable Python code cells for Questions 6–9."
   ]
  },
  {
   "cell_type": "markdown",
   "id": "38cf648f",
   "metadata": {},
   "source": [
    "### Q1: What is hypothesis testing in statistics?\n",
    "\n",
    "Hypothesis testing is a statistical method used to make decisions about population parameters based on sample data. It sets up two competing statements (null and alternative hypotheses) and uses sample evidence to decide which is more plausible."
   ]
  },
  {
   "cell_type": "markdown",
   "id": "7bdbd5f0",
   "metadata": {},
   "source": [
    "### Q2: What is the null hypothesis, and how does it differ from the alternative hypothesis?\n",
    "\n",
    "- **Null hypothesis (H₀):** A statement of no effect or no difference; observed variation is attributed to chance.\n",
    "- **Alternative hypothesis (H₁):** A statement that contradicts H₀, indicating a genuine effect or difference."
   ]
  },
  {
   "cell_type": "markdown",
   "id": "b72a9877",
   "metadata": {},
   "source": [
    "### Q3: Explain the significance level in hypothesis testing and its role in deciding the outcome of a test.\n",
    "\n",
    "The **significance level (α)** is the decision threshold (commonly 0.05). If the p-value ≤ α, reject H₀; otherwise, fail to reject H₀. It represents the probability of making a Type I error."
   ]
  },
  {
   "cell_type": "markdown",
   "id": "ed067576",
   "metadata": {},
   "source": [
    "### Q4: What are Type I and Type II errors? Give examples of each.\n",
    "\n",
    "- **Type I error (False Positive):** Rejecting H₀ when it is true. Example: Concluding a drug works when it actually does not.\n",
    "- **Type II error (False Negative):** Failing to reject H₀ when H₁ is true. Example: Concluding a drug does not work when it actually does."
   ]
  },
  {
   "cell_type": "markdown",
   "id": "3f75b573",
   "metadata": {},
   "source": [
    "### Q5: What is the difference between a Z-test and a T-test? Explain when to use each.\n",
    "\n",
    "- **Z-test:** Use when population variance is known or sample size is large (n ≥ 30) and normality holds.\n",
    "- **T-test:** Use when population variance is unknown and/or sample size is small (n < 30); relies on the t-distribution."
   ]
  },
  {
   "cell_type": "markdown",
   "id": "c68e0c62",
   "metadata": {},
   "source": [
    "### Q6: Generate a binomial distribution (n=10, p=0.5) and plot its histogram"
   ]
  },
  {
   "cell_type": "code",
   "execution_count": null,
   "id": "c3a779c2",
   "metadata": {},
   "outputs": [],
   "source": [
    "import numpy as np\n",
    "import matplotlib.pyplot as plt\n",
    "\n",
    "# Generate binomial distribution\n",
    "data = np.random.binomial(n=10, p=0.5, size=1000)\n",
    "\n",
    "# Plot histogram (no specific colors per instruction)\n",
    "plt.hist(data, bins=11, edgecolor='black')\n",
    "plt.title(\"Binomial Distribution (n=10, p=0.5)\")\n",
    "plt.xlabel(\"Number of Successes\")\n",
    "plt.ylabel(\"Frequency\")\n",
    "plt.show()"
   ]
  },
  {
   "cell_type": "markdown",
   "id": "0e0aeacc",
   "metadata": {},
   "source": [
    "### Q7: Implement hypothesis testing using Z-statistics for a sample dataset"
   ]
  },
  {
   "cell_type": "code",
   "execution_count": null,
   "id": "6b8d4cf6",
   "metadata": {},
   "outputs": [],
   "source": [
    "import numpy as np\n",
    "import scipy.stats as st\n",
    "\n",
    "# Sample data\n",
    "sample_data = [49.1, 50.2, 51.0, 48.7, 50.5, 49.8, 50.3, 50.7, 50.2, 49.6,\n",
    "               50.1, 49.9, 50.8, 50.4, 48.9, 50.6, 50.0, 49.7, 50.2, 49.5,\n",
    "               50.1, 50.3, 50.4, 50.5, 50.0, 50.7, 49.3, 49.8, 50.2, 50.9,\n",
    "               50.3, 50.4, 50.0, 49.7, 50.5, 49.9]\n",
    "\n",
    "# Hypothesized population mean\n",
    "mu = 50\n",
    "\n",
    "mean_sample = np.mean(sample_data)\n",
    "std_sample = np.std(sample_data, ddof=1)\n",
    "n = len(sample_data)\n",
    "\n",
    "# Z-statistic (approximate, since population std unknown but n is moderate)\n",
    "z_stat = (mean_sample - mu) / (std_sample / np.sqrt(n))\n",
    "p_value = 2 * (1 - st.norm.cdf(abs(z_stat)))\n",
    "\n",
    "print(\"Sample Mean:\", round(mean_sample, 4))\n",
    "print(\"Z-statistic:\", round(z_stat, 4))\n",
    "print(\"P-value:\", round(p_value, 6))\n",
    "\n",
    "if p_value < 0.05:\n",
    "    print(\"Decision at α=0.05: Reject H0\")\n",
    "else:\n",
    "    print(\"Decision at α=0.05: Fail to reject H0\")"
   ]
  },
  {
   "cell_type": "markdown",
   "id": "4424a187",
   "metadata": {},
   "source": [
    "### Q8: Simulate normal data and calculate the 95% CI for the mean; plot histogram"
   ]
  },
  {
   "cell_type": "code",
   "execution_count": null,
   "id": "7ea9f3e7",
   "metadata": {},
   "outputs": [],
   "source": [
    "import numpy as np\n",
    "import matplotlib.pyplot as plt\n",
    "import scipy.stats as st\n",
    "\n",
    "# Simulate normal data\n",
    "np.random.seed(42)\n",
    "data = np.random.normal(loc=100, scale=15, size=1000)\n",
    "\n",
    "# Mean and standard error\n",
    "mean_val = np.mean(data)\n",
    "sem = st.sem(data)\n",
    "\n",
    "# 95% CI using t critical value (robust across SciPy versions)\n",
    "df = len(data) - 1\n",
    "t_crit = st.t.ppf(0.975, df)\n",
    "margin = t_crit * sem\n",
    "ci = (mean_val - margin, mean_val + margin)\n",
    "\n",
    "print(\"Mean:\", round(mean_val, 4))\n",
    "print(\"95% Confidence Interval:\", (round(ci[0], 4), round(ci[1], 4)))\n",
    "\n",
    "# Plot histogram\n",
    "plt.hist(data, bins=30, edgecolor='black', alpha=0.7)\n",
    "plt.title(\"Simulated Normal Distribution\")\n",
    "plt.xlabel(\"Value\")\n",
    "plt.ylabel(\"Frequency\")\n",
    "plt.show()"
   ]
  },
  {
   "cell_type": "markdown",
   "id": "bc916ab4",
   "metadata": {},
   "source": [
    "### Q9: Calculate Z-scores and visualize standardized data"
   ]
  },
  {
   "cell_type": "code",
   "execution_count": null,
   "id": "42361023",
   "metadata": {},
   "outputs": [],
   "source": [
    "import numpy as np\n",
    "import matplotlib.pyplot as plt\n",
    "\n",
    "def calculate_z_scores(data):\n",
    "    data = np.asarray(data, dtype=float)\n",
    "    mean = np.mean(data)\n",
    "    std = np.std(data)\n",
    "    # Avoid division by zero if std is zero\n",
    "    if std == 0:\n",
    "        return np.zeros_like(data)\n",
    "    z_scores = (data - mean) / std\n",
    "    return z_scores\n",
    "\n",
    "# Example dataset\n",
    "data = [10, 12, 14, 16, 18, 20, 22, 24, 26, 28]\n",
    "z_scores = calculate_z_scores(data)\n",
    "\n",
    "print(\"Z-scores:\", np.round(z_scores, 4))\n",
    "\n",
    "# Plot histogram\n",
    "plt.hist(z_scores, bins=10, edgecolor='black', alpha=0.7)\n",
    "plt.title(\"Z-score Standardized Data\")\n",
    "plt.xlabel(\"Z-score\")\n",
    "plt.ylabel(\"Frequency\")\n",
    "plt.show()"
   ]
  }
 ],
 "metadata": {},
 "nbformat": 4,
 "nbformat_minor": 5
}