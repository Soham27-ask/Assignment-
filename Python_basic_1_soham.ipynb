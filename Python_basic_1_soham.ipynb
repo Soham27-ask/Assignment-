{
  "nbformat": 4,
  "nbformat_minor": 0,
  "metadata": {
    "colab": {
      "provenance": []
    },
    "kernelspec": {
      "name": "python3",
      "display_name": "Python 3"
    },
    "language_info": {
      "name": "python"
    }
  },
  "cells": [
    {
      "cell_type": "code",
      "execution_count": null,
      "metadata": {
        "id": "sLTadecPXKva"
      },
      "outputs": [],
      "source": [
        "# Python Basic Questions and Answers\n"
      ]
    },
    {
      "cell_type": "markdown",
      "source": [],
      "metadata": {
        "id": "6Ci6ZVcxXWWk"
      }
    },
    {
      "cell_type": "markdown",
      "source": [],
      "metadata": {
        "id": "7XmkjfJGXWbs"
      }
    },
    {
      "cell_type": "markdown",
      "source": [
        "1. What is Python, and why it is po?\n",
        " -> Python is a high-level programming language known for its simple and readable syntax.\n",
        "It is easy to learn, making it popular among beginners and professionals.\n",
        "Python is used in web development, data science, AI, automation, and more.\n",
        "It has a large community and many powerful libraries and frameworks.\n",
        "These features make Python one of the most widely used programming languages today.\n"
      ],
      "metadata": {
        "id": "BDmg7KlzXWf5"
      }
    },
    {
      "cell_type": "markdown",
      "source": [
        "2.  What is an interpreter in Python?\n",
        "-> An interpreter in Python is a program that reads and executes Python code line by line.\n",
        "It translates the high-level Python code into machine code so the computer can understand and run it."
      ],
      "metadata": {
        "id": "m8GMsYbGaNY6"
      }
    },
    {
      "cell_type": "markdown",
      "source": [
        "3. What are predefined keywords in Python?\n",
        "-> Predefined keywords in Python are reserved words that have special meaning in the language.\n",
        "They are used to define the syntax and structure of Python programs (like if, else, while, def, etc.)."
      ],
      "metadata": {
        "id": "zZ-2Tn-5amZJ"
      }
    },
    {
      "cell_type": "markdown",
      "source": [
        "4. Can keywords be used as variables in Python?\n",
        "-> No, keywords cannot be used as variables in Python.\n"
      ],
      "metadata": {
        "id": "aA_-Dx4qbCQD"
      }
    },
    {
      "cell_type": "markdown",
      "source": [
        "5. What is mutability in Python?\n",
        "-> Mutability in Python refers to whether an object’s value can be changed after it is created.\n"
      ],
      "metadata": {
        "id": "24PI7A3lbfPf"
      }
    },
    {
      "cell_type": "markdown",
      "source": [
        "6.  Why are lists mutable but tuples immutable?\n",
        "-> Lists are mutable to allow changes like adding or removing items, while tuples are immutable to keep their contents fixed and reliable.\n"
      ],
      "metadata": {
        "id": "Key08qe0h2B_"
      }
    },
    {
      "cell_type": "markdown",
      "source": [
        "7. What is the difference between == and is operators in Python?\n",
        "->  == checks if two objects have the same value, while is checks if they are the exact same object in memory.\n"
      ],
      "metadata": {
        "id": "bqImY0YdiXoP"
      }
    },
    {
      "cell_type": "markdown",
      "source": [
        "8. What are different logical operators in Python?\n",
        "-> Python’s logical operators are and, or, and not.\n",
        "They combine or invert Boolean conditions to control the flow of a program."
      ],
      "metadata": {
        "id": "oxzRSWWsi7Sp"
      }
    },
    {
      "cell_type": "markdown",
      "source": [
        "9. What is type casting in Python?\n",
        "-?  Type casting is converting a variable from one data type to another, like turning a string into an integer."
      ],
      "metadata": {
        "id": "J-0rTVjFjagL"
      }
    },
    {
      "cell_type": "code",
      "source": [
        " num_str = \"10\"\n",
        "num_int = int(num_str)  # Converts string \"10\" to integer 10\n",
        "print(num_int + 5)"
      ],
      "metadata": {
        "colab": {
          "base_uri": "https://localhost:8080/"
        },
        "id": "aDYwkSMBj7Kx",
        "outputId": "69d64df3-6a2c-4da6-89c1-0e0e18cf5665"
      },
      "execution_count": 1,
      "outputs": [
        {
          "output_type": "stream",
          "name": "stdout",
          "text": [
            "15\n"
          ]
        }
      ]
    },
    {
      "cell_type": "markdown",
      "source": [
        "10.  What is the difference between implicit and explicit type casting?\n",
        "-> Implicit casting is automatic by Python, while explicit casting is done manually by the programmer using functions like int() or str().\n"
      ],
      "metadata": {
        "id": "N9lOfqfCkP7d"
      }
    },
    {
      "cell_type": "markdown",
      "source": [
        "11. What is the purpose of conditional statements in Python?\n",
        "-> Conditionals in Python are used to execute code based on the evaluation of one or more conditions.\n"
      ],
      "metadata": {
        "id": "VsC-5XoLk2EE"
      }
    },
    {
      "cell_type": "markdown",
      "source": [
        "12.  How does the elif statement work in Python?\n",
        "-> The elif statement in Python stands for \"else if.\" It follows an initial if condition and lets you test additional conditions if the first one is false. Python checks each elif condition in order, and executes the block for the first true condition it encounters. If none of the if or elif conditions are true, the optional else block runs. This helps write clear, multi-choice decision logic in your code."
      ],
      "metadata": {
        "id": "7_eT65-HlLI5"
      }
    },
    {
      "cell_type": "markdown",
      "source": [
        "13. What is the difference between a for loop and a while loop in Python?\n",
        "-> A for loop in Python runs a set number of times, iterating over a sequence like a list or range. A while loop keeps running as long as a condition is true, which might be indefinite. Use for when you know how many times to repeat, and while when the repetition depends on a condition. Both help repeat code but work differently.\n",
        "\n",
        "\n",
        "\n",
        "\n",
        "\n"
      ],
      "metadata": {
        "id": "twaiaN0qlwoa"
      }
    },
    {
      "cell_type": "markdown",
      "source": [
        "14. Describe a scenario where a while loop is more suitable than a for loop.\n",
        "-> A while loop is more suitable when the number of iterations is not known in advance.\n",
        "For example, asking a user to enter a password until they get it right.\n",
        "You don’t know how many tries the user will need.\n",
        "The loop should continue as long as the input is incorrect.\n",
        "This condition-based repetition is ideal for a while loop.\n"
      ],
      "metadata": {
        "id": "ZJ31RkE7lpvq"
      }
    },
    {
      "cell_type": "code",
      "source": [
        "# Python Practical Questions and Answers"
      ],
      "metadata": {
        "id": "ShEFJc60sLmm"
      },
      "execution_count": null,
      "outputs": []
    },
    {
      "cell_type": "code",
      "source": [
        "\"\"\"\n",
        "1. write a python program to print \"Hello, World!\"\n",
        "\"\"\"\n",
        "print(\"Hello, World!\")"
      ],
      "metadata": {
        "colab": {
          "base_uri": "https://localhost:8080/"
        },
        "id": "fgXb-JNbsm7B",
        "outputId": "70d1bfdb-6216-4360-db65-cb14ee1ccae6"
      },
      "execution_count": 2,
      "outputs": [
        {
          "output_type": "stream",
          "name": "stdout",
          "text": [
            "Hello, World!\n"
          ]
        }
      ]
    },
    {
      "cell_type": "code",
      "source": [
        "\"\"\"\n",
        "2. write a python program that display your name and age.\n",
        "\"\"\"\n",
        "name = \"Soham\"\n",
        "age = 27\n",
        "print(\"Name:\", name)\n",
        "print(\"Age:\", age)"
      ],
      "metadata": {
        "colab": {
          "base_uri": "https://localhost:8080/"
        },
        "id": "Wo3lr8ivs-DQ",
        "outputId": "84a0c3ac-49d7-4d03-82f1-2102879683d4"
      },
      "execution_count": 3,
      "outputs": [
        {
          "output_type": "stream",
          "name": "stdout",
          "text": [
            "Name: Soham\n",
            "Age: 27\n"
          ]
        }
      ]
    },
    {
      "cell_type": "code",
      "source": [
        "\"\"\"\n",
        "3. Write a code to print pre define key words in python wsing keyword library\n",
        "\"\"\"\n",
        "import keyword\n",
        "print(keyword.kwlist)"
      ],
      "metadata": {
        "colab": {
          "base_uri": "https://localhost:8080/"
        },
        "id": "fCjvqA0itatN",
        "outputId": "1155c413-ea44-4463-e84f-5a46c3a15477"
      },
      "execution_count": 4,
      "outputs": [
        {
          "output_type": "stream",
          "name": "stdout",
          "text": [
            "['False', 'None', 'True', 'and', 'as', 'assert', 'async', 'await', 'break', 'class', 'continue', 'def', 'del', 'elif', 'else', 'except', 'finally', 'for', 'from', 'global', 'if', 'import', 'in', 'is', 'lambda', 'nonlocal', 'not', 'or', 'pass', 'raise', 'return', 'try', 'while', 'with', 'yield']\n"
          ]
        }
      ]
    },
    {
      "cell_type": "code",
      "source": [
        "'''\n",
        "4.Write an programne that checks if a given word is python key word.\n",
        "'''\n",
        "import keyword\n",
        "word = input(\"Enter a word: \")\n",
        "if keyword.iskeyword(word):\n",
        "    print(f\"{word} is a Python keyword.\")\n",
        "else:\n",
        "    print(f\"{word} is not a Python keyword.\")"
      ],
      "metadata": {
        "colab": {
          "base_uri": "https://localhost:8080/"
        },
        "id": "2dZQRleiuVEu",
        "outputId": "ad17e58a-278f-47dd-9ff9-cd58c7985211"
      },
      "execution_count": 10,
      "outputs": [
        {
          "output_type": "stream",
          "name": "stdout",
          "text": [
            "Enter a word: as\n",
            "as is a Python keyword.\n"
          ]
        }
      ]
    },
    {
      "cell_type": "code",
      "source": [
        "'''\n",
        "5.Create a list of tuples in Python, and demonstrate how attempting to change an element works differently compared to other.\n",
        "'''\n"
      ],
      "metadata": {
        "colab": {
          "base_uri": "https://localhost:8080/"
        },
        "id": "rH8SOOGnvIcP",
        "outputId": "577ce425-aa7a-4c01-aaa3-383bf1f20ade"
      },
      "execution_count": 11,
      "outputs": [
        {
          "output_type": "stream",
          "name": "stdout",
          "text": [
            "[(4, 'four'), (2, 'two'), (3, 'three')]\n"
          ]
        }
      ]
    },
    {
      "cell_type": "code",
      "source": [
        "'''\n",
        "6.Write a function to demonstrate the behavior of mutable and immutable arguments.\n",
        "'''#mutability\n",
        "list_cont = [1, 2, 3, 4.3, 3+5j, True, \"Ramu\"]\n",
        "list_cont"
      ],
      "metadata": {
        "colab": {
          "base_uri": "https://localhost:8080/"
        },
        "id": "xuSsRNk_wWrX",
        "outputId": "f5225b93-b7a5-4fd3-c438-ce68b165cdbd"
      },
      "execution_count": 17,
      "outputs": [
        {
          "output_type": "execute_result",
          "data": {
            "text/plain": [
              "[1, 2, 3, 4.3, (3+5j), True, 'Ramu']"
            ]
          },
          "metadata": {},
          "execution_count": 17
        }
      ]
    },
    {
      "cell_type": "code",
      "source": [
        "list_cont[6] = \"Soham\""
      ],
      "metadata": {
        "id": "FT5ZjfFG3Xea"
      },
      "execution_count": 19,
      "outputs": []
    },
    {
      "cell_type": "code",
      "source": [
        "list_cont"
      ],
      "metadata": {
        "colab": {
          "base_uri": "https://localhost:8080/"
        },
        "id": "-RA6PhEv3Xbn",
        "outputId": "92a0553d-9392-4801-e598-0f1ae35c7b9e"
      },
      "execution_count": 20,
      "outputs": [
        {
          "output_type": "execute_result",
          "data": {
            "text/plain": [
              "[1, 2, 3, 4.3, (3+5j), True, 'Soham']"
            ]
          },
          "metadata": {},
          "execution_count": 20
        }
      ]
    },
    {
      "cell_type": "code",
      "source": [
        "b = \"Yamaha\"\n",
        "b"
      ],
      "metadata": {
        "colab": {
          "base_uri": "https://localhost:8080/",
          "height": 35
        },
        "id": "Fft-2Xf544BQ",
        "outputId": "ed13c5d2-4d6a-4ee4-9625-29b295170db0"
      },
      "execution_count": 21,
      "outputs": [
        {
          "output_type": "execute_result",
          "data": {
            "text/plain": [
              "'Yamaha'"
            ],
            "application/vnd.google.colaboratory.intrinsic+json": {
              "type": "string"
            }
          },
          "metadata": {},
          "execution_count": 21
        }
      ]
    },
    {
      "cell_type": "code",
      "source": [
        "b[0] = \"J\""
      ],
      "metadata": {
        "colab": {
          "base_uri": "https://localhost:8080/",
          "height": 141
        },
        "id": "aP5LstnM5Cwd",
        "outputId": "796a396c-b13d-45c7-ef4a-1e99a0727562"
      },
      "execution_count": 22,
      "outputs": [
        {
          "output_type": "error",
          "ename": "TypeError",
          "evalue": "'str' object does not support item assignment",
          "traceback": [
            "\u001b[0;31m---------------------------------------------------------------------------\u001b[0m",
            "\u001b[0;31mTypeError\u001b[0m                                 Traceback (most recent call last)",
            "\u001b[0;32m<ipython-input-22-0cc860beadf7>\u001b[0m in \u001b[0;36m<cell line: 0>\u001b[0;34m()\u001b[0m\n\u001b[0;32m----> 1\u001b[0;31m \u001b[0mb\u001b[0m\u001b[0;34m[\u001b[0m\u001b[0;36m0\u001b[0m\u001b[0;34m]\u001b[0m \u001b[0;34m=\u001b[0m \u001b[0;34m\"J\"\u001b[0m\u001b[0;34m\u001b[0m\u001b[0;34m\u001b[0m\u001b[0m\n\u001b[0m",
            "\u001b[0;31mTypeError\u001b[0m: 'str' object does not support item assignment"
          ]
        }
      ]
    },
    {
      "cell_type": "code",
      "source": [
        "\"\"\"\n",
        "7.Write a program that performs basic arithmetic operation on 2 user input numbers.\n",
        "\"\"\"\n",
        "num1 = float(input(\"Enter the first number: \"))\n",
        "num2 = float(input(\"Enter the second number: \"))\n",
        "\n",
        "# Do basic arithmetic operations\n",
        "add = num1 + num2\n",
        "subtract = num1 - num2\n",
        "print(\"Addition:\", add)\n",
        "print(\"Subtraction:\", subtract)"
      ],
      "metadata": {
        "colab": {
          "base_uri": "https://localhost:8080/"
        },
        "id": "4UVDBsd85M4X",
        "outputId": "3017cae6-f53b-4126-a2cf-14411e4366f7"
      },
      "execution_count": 23,
      "outputs": [
        {
          "output_type": "stream",
          "name": "stdout",
          "text": [
            "Enter the first number: 36\n",
            "Enter the second number: 84\n",
            "Addition: 120.0\n",
            "Subtraction: -48.0\n"
          ]
        }
      ]
    },
    {
      "cell_type": "code",
      "source": [
        "'''\n",
        "8.Write a program the demonstrator logical opraters.\n",
        "'''\n",
        "True or False"
      ],
      "metadata": {
        "colab": {
          "base_uri": "https://localhost:8080/"
        },
        "id": "TXtt3HvK7XCW",
        "outputId": "cfd28ce3-5b29-4917-b753-c9db32f46f98"
      },
      "execution_count": 24,
      "outputs": [
        {
          "output_type": "execute_result",
          "data": {
            "text/plain": [
              "True"
            ]
          },
          "metadata": {},
          "execution_count": 24
        }
      ]
    },
    {
      "cell_type": "code",
      "source": [
        "\"\"\"\n",
        "9. Write a Python program to convert a input from string to integer, float and boolean types.\n",
        "\"\"\"\n",
        "text = input(\"Enter something: \")\n",
        "\n",
        "print(\"As String:\",(text))\n",
        "print(\"As Integer:\", int(text))\n",
        "print(\"As Float:\", float(text))\n",
        "print(\"As Boolean:\", bool(text))"
      ],
      "metadata": {
        "colab": {
          "base_uri": "https://localhost:8080/"
        },
        "id": "g0P4ZYKM8BTl",
        "outputId": "3040479c-4be0-4c89-aeda-8f4e5dde8641"
      },
      "execution_count": 30,
      "outputs": [
        {
          "output_type": "stream",
          "name": "stdout",
          "text": [
            "Enter something: 10\n",
            "As String: 10\n",
            "As Integer: 10\n",
            "As Float: 10.0\n",
            "As Boolean: True\n"
          ]
        }
      ]
    },
    {
      "cell_type": "code",
      "source": [
        "'''\n",
        "10.Write a code to demonstrate typecasting with list element.\n",
        "'''\n",
        "my_list = [\"1\", \"2\", \"3\"]\n",
        "\n",
        "new_list = [int(x) for x in my_list]\n",
        "\n",
        "print(\"Original list:\", my_list)\n",
        "print(\"Converted to integers:\", new_list)\n",
        "\n"
      ],
      "metadata": {
        "colab": {
          "base_uri": "https://localhost:8080/"
        },
        "id": "UNxf4EgJ9Gob",
        "outputId": "6551db08-f6b2-49b7-8ff3-10c050a13c2c"
      },
      "execution_count": 31,
      "outputs": [
        {
          "output_type": "stream",
          "name": "stdout",
          "text": [
            "Original list: ['1', '2', '3']\n",
            "Converted to integers: [1, 2, 3]\n"
          ]
        }
      ]
    },
    {
      "cell_type": "code",
      "source": [
        "'''\n",
        "11. Write a program that check if a number is positive negative or 0.\n",
        "'''\n",
        "num = float(input(\"Enter a number: \"))\n",
        "\n",
        "if num > 0:\n",
        "    print(\"The number is positive.\")\n",
        "elif num < 0:\n",
        "    print(\"The number is negative.\")\n",
        "else:\n",
        "    print(\"The number is zero.\")"
      ],
      "metadata": {
        "colab": {
          "base_uri": "https://localhost:8080/"
        },
        "id": "ibOtv-nW-qrU",
        "outputId": "29f6f3d0-27dd-42b7-cd2c-0966342f1195"
      },
      "execution_count": 46,
      "outputs": [
        {
          "output_type": "stream",
          "name": "stdout",
          "text": [
            "Enter a number: 5\n",
            "The number is positive.\n"
          ]
        }
      ]
    },
    {
      "cell_type": "code",
      "source": [
        "'''\n",
        "12.Write a for loop to print number from 1 to 10.\n",
        "'''\n",
        "for i in range(1, 11):\n",
        "    print(i)\n",
        "\n"
      ],
      "metadata": {
        "colab": {
          "base_uri": "https://localhost:8080/"
        },
        "id": "yHGSq4t1_LLf",
        "outputId": "c20911c8-6b88-411a-e2c0-60b249624deb"
      },
      "execution_count": 47,
      "outputs": [
        {
          "output_type": "stream",
          "name": "stdout",
          "text": [
            "1\n",
            "2\n",
            "3\n",
            "4\n",
            "5\n",
            "6\n",
            "7\n",
            "8\n",
            "9\n",
            "10\n"
          ]
        }
      ]
    },
    {
      "cell_type": "code",
      "source": [
        "'''\n",
        "13. Write a Python program find the sum of all even numbers between 1 to 50.\n",
        "'''\n",
        "total = 0\n",
        "for num in range(2, 51, 2):\n",
        "    total += num\n",
        "print(\"The sum of even numbers from 1 to 50 is:\", total)\n",
        ""
      ],
      "metadata": {
        "colab": {
          "base_uri": "https://localhost:8080/"
        },
        "id": "RqgfrBReBHT9",
        "outputId": "28fe1089-8761-4a6e-b52b-98c3e8259b57"
      },
      "execution_count": 54,
      "outputs": [
        {
          "output_type": "stream",
          "name": "stdout",
          "text": [
            "The sum of even numbers from 1 to 50 is: 650\n"
          ]
        }
      ]
    },
    {
      "cell_type": "code",
      "source": [
        "'''\n",
        "14. Write a program to reverse a string while using a loop.\n",
        "'''\n",
        "text = input(\"Enter a string: \")\n",
        "\n",
        "reversed_text = \"\"\n",
        "\n",
        "for i in range(len(text) - 1, -1, -1):\n",
        "    reversed_text += text[i]\n",
        "\n",
        "print(\"Reversed string:\", reversed_text)\n"
      ],
      "metadata": {
        "colab": {
          "base_uri": "https://localhost:8080/"
        },
        "id": "Ya05W8hFBW_r",
        "outputId": "f298b2fe-2940-4739-81aa-d07a8f718828"
      },
      "execution_count": 59,
      "outputs": [
        {
          "output_type": "stream",
          "name": "stdout",
          "text": [
            "Enter a string: Soham \n",
            "Reversed string:  mahoS\n"
          ]
        }
      ]
    },
    {
      "cell_type": "code",
      "source": [
        "'''\n",
        "15. Write a Python program to calculate the factorial of a number provided by the using wile loop.\n",
        "'''\n",
        "num = int(input(\"Enter a number: \"))\n",
        "fact = 1\n",
        "count = 1\n",
        "\n",
        "while count <= num:\n",
        "    fact = fact * count\n",
        "    count = count + 1\n",
        "\n",
        "print(\"Factorial is:\", fact)"
      ],
      "metadata": {
        "colab": {
          "base_uri": "https://localhost:8080/"
        },
        "id": "InYV431YCpmM",
        "outputId": "8c600b9b-e4d3-4e87-9bd6-9d570569f9c9"
      },
      "execution_count": 63,
      "outputs": [
        {
          "output_type": "stream",
          "name": "stdout",
          "text": [
            "Enter a number: 9\n",
            "Factorial is: 362880\n"
          ]
        }
      ]
    },
    {
      "cell_type": "code",
      "source": [],
      "metadata": {
        "id": "GJ042j-nEKGZ"
      },
      "execution_count": null,
      "outputs": []
    }
  ]
}