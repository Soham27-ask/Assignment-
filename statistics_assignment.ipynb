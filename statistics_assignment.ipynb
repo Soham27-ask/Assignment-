{
 "cells": [
  {
   "cell_type": "markdown",
   "id": "d345a50e",
   "metadata": {},
   "source": [
    "### Q1: What is a random variable in probability theory?\n",
    "\n",
    "A random variable is a numerical quantity whose value depends on the outcome of a random experiment. It maps outcomes from a sample space to real numbers. For example, when tossing a coin, assigning 0 for tails and 1 for heads defines a random variable."
   ]
  },
  {
   "cell_type": "markdown",
   "id": "4d595756",
   "metadata": {},
   "source": [
    "### Q2: What are the types of random variables?\n",
    "\n",
    "Random variables are classified into:\n",
    "1. **Discrete random variables** – Take countable values (e.g., number of heads in 5 coin tosses).\n",
    "2. **Continuous random variables** – Take uncountably infinite values within an interval (e.g., height, weight, temperature)."
   ]
  },
  {
   "cell_type": "markdown",
   "id": "e432e40c",
   "metadata": {},
   "source": [
    "### Q3: Explain the difference between discrete and continuous distributions.\n",
    "\n",
    "- **Discrete distributions** describe random variables that take countable values (e.g., binomial, Poisson). Probability is assigned to each possible value.\n",
    "- **Continuous distributions** describe variables that can take infinitely many values within an interval (e.g., normal, exponential). Probabilities are defined over intervals using density functions."
   ]
  },
  {
   "cell_type": "markdown",
   "id": "c80cc63d",
   "metadata": {},
   "source": [
    "### Q4: What is a binomial distribution, and how is it used in probability?\n",
    "\n",
    "A binomial distribution models the number of successes in **n independent Bernoulli trials** (success/failure experiments), each with probability **p** of success.\n",
    "It is used in probability when outcomes are binary (e.g., defect/no defect, yes/no). Example: Probability of getting exactly 3 heads in 5 coin tosses."
   ]
  },
  {
   "cell_type": "markdown",
   "id": "ad508f57",
   "metadata": {},
   "source": [
    "### Q5: What is the standard normal distribution, and why is it important?\n",
    "\n",
    "The **standard normal distribution (Z-distribution)** is a normal distribution with mean **0** and standard deviation **1**.\n",
    "It is important because:\n",
    "- It serves as a reference for hypothesis testing and confidence intervals.\n",
    "- Any normal distribution can be standardized into Z-scores, making comparison across datasets easier."
   ]
  },
  {
   "cell_type": "markdown",
   "id": "12bda451",
   "metadata": {},
   "source": [
    "### Q6: What is the Central Limit Theorem (CLT), and why is it critical in statistics?\n",
    "\n",
    "The **CLT** states that the sampling distribution of the sample mean approaches a normal distribution as the sample size increases, regardless of the population’s distribution, provided n is sufficiently large.\n",
    "It is critical because it allows statisticians to use normal probability models for inference, even when population distributions are unknown."
   ]
  },
  {
   "cell_type": "markdown",
   "id": "13047ffd",
   "metadata": {},
   "source": [
    "### Q7: What is the significance of confidence intervals in statistical analysis?\n",
    "\n",
    "A confidence interval provides a range of plausible values for a population parameter (e.g., mean, proportion) based on sample data.\n",
    "Its significance lies in:\n",
    "- Quantifying uncertainty in estimates.\n",
    "- Allowing decision-making with a known level of confidence (e.g., 95%)."
   ]
  },
  {
   "cell_type": "markdown",
   "id": "0eccc7f6",
   "metadata": {},
   "source": [
    "### Q8: What is the concept of expected value in a probability distribution?\n",
    "\n",
    "The **expected value (mean)** of a random variable is the long-run average value of outcomes if the experiment is repeated infinitely.\n",
    "For a discrete variable: E[X] = Σ x_i P(x_i)\n",
    "For a continuous variable: E[X] = ∫ x f(x) dx\n",
    "It represents the central tendency of the distribution."
   ]
  },
  {
   "cell_type": "markdown",
   "id": "d9f176f2",
   "metadata": {},
   "source": [
    "### Q9: Python program to generate 1000 random numbers from a normal distribution (μ=50, σ=5). Compute mean, std, and draw histogram."
   ]
  },
  {
   "cell_type": "code",
   "execution_count": null,
   "id": "2ade3681",
   "metadata": {},
   "outputs": [],
   "source": [
    "import numpy as np\n",
    "import matplotlib.pyplot as plt\n",
    "\n",
    "# Generate random numbers\n",
    "data = np.random.normal(loc=50, scale=5, size=1000)\n",
    "\n",
    "# Compute mean and std\n",
    "mean_val = np.mean(data)\n",
    "std_val = np.std(data)\n",
    "\n",
    "print(\"Mean:\", mean_val)\n",
    "print(\"Standard Deviation:\", std_val)\n",
    "\n",
    "# Plot histogram\n",
    "plt.hist(data, bins=30, edgecolor='black')\n",
    "plt.title(\"Normal Distribution (μ=50, σ=5)\")\n",
    "plt.xlabel(\"Value\")\n",
    "plt.ylabel(\"Frequency\")\n",
    "plt.show()"
   ]
  },
  {
   "cell_type": "markdown",
   "id": "ab0b641b",
   "metadata": {},
   "source": [
    "### Q10: Sales data analysis using CLT & 95% confidence interval"
   ]
  },
  {
   "cell_type": "code",
   "execution_count": null,
   "id": "33fa54ab",
   "metadata": {},
   "outputs": [],
   "source": [
    "import numpy as np\n",
    "import scipy.stats as st\n",
    "\n",
    "# Daily sales data\n",
    "daily_sales = [220, 245, 210, 265, 230, 250, 260, 275, 240, 255,\n",
    "               235, 260, 245, 250, 225, 270, 265, 255, 250, 260]\n",
    "\n",
    "# Mean and standard error\n",
    "mean_sales = np.mean(daily_sales)\n",
    "sem_sales = st.sem(daily_sales)\n",
    "\n",
    "# 95% confidence interval\n",
    "ci = st.t.interval(alpha=0.95, df=len(daily_sales)-1,\n",
    "                   loc=mean_sales, scale=sem_sales)\n",
    "\n",
    "print(\"Mean Sales:\", mean_sales)\n",
    "print(\"95% Confidence Interval:\", ci)"
   ]
  }
 ],
 "metadata": {},
 "nbformat": 4,
 "nbformat_minor": 5
}