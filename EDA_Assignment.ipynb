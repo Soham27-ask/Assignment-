{
 "cells": [
  {
   "cell_type": "markdown",
   "id": "8d70fdff",
   "metadata": {},
   "source": [
    "Question 1: Read the Bike Details dataset into a Pandas DataFrame and display its first 10 rows.\n",
    "(Show the shape and column names as well.)"
   ]
  },
  {
   "cell_type": "code",
   "execution_count": null,
   "id": "ec319583",
   "metadata": {},
   "outputs": [],
   "source": [
    "import pandas as pd\n",
    "\n",
    "url = \"https://drive.google.com/uc?id=1iKy23bMtEQShF_weneRNnYrFmzvpPOI3\"\n",
    "df = pd.read_csv(url)\n",
    "\n",
    "print(df.shape)\n",
    "print(df.columns)\n",
    "df.head(10)"
   ]
  },
  {
   "cell_type": "markdown",
   "id": "16b137a7",
   "metadata": {},
   "source": [
    "Question 2: Check for missing values in all columns and describe your approach for handling them."
   ]
  },
  {
   "cell_type": "code",
   "execution_count": null,
   "id": "70b4f506",
   "metadata": {},
   "outputs": [],
   "source": [
    "df.isnull().sum()"
   ]
  },
  {
   "cell_type": "markdown",
   "id": "20b04152",
   "metadata": {},
   "source": [
    "Question 3: Plot the distribution of selling prices using a histogram and describe the overall trend."
   ]
  },
  {
   "cell_type": "code",
   "execution_count": null,
   "id": "f2cb14fb",
   "metadata": {},
   "outputs": [],
   "source": [
    "import matplotlib.pyplot as plt\n",
    "\n",
    "plt.hist(df['selling_price'], bins=30, edgecolor='k')\n",
    "plt.xlabel('Selling Price')\n",
    "plt.ylabel('Frequency')\n",
    "plt.title('Distribution of Selling Prices')\n",
    "plt.show()"
   ]
  },
  {
   "cell_type": "markdown",
   "id": "93fe86ca",
   "metadata": {},
   "source": [
    "Question 4: Create a bar plot to visualize the average selling price for each seller_type and write one observation."
   ]
  },
  {
   "cell_type": "code",
   "execution_count": null,
   "id": "db927dc0",
   "metadata": {},
   "outputs": [],
   "source": [
    "df.groupby('seller_type')['selling_price'].mean().plot(kind='bar')\n",
    "plt.ylabel('Average Selling Price')\n",
    "plt.title('Average Selling Price by Seller Type')\n",
    "plt.show()"
   ]
  },
  {
   "cell_type": "markdown",
   "id": "1fc6bde5",
   "metadata": {},
   "source": [
    "Question 5: Compute the average km_driven for each ownership type (1st owner, 2nd owner, etc.), and present the result as a bar plot."
   ]
  },
  {
   "cell_type": "code",
   "execution_count": null,
   "id": "d89d7829",
   "metadata": {},
   "outputs": [],
   "source": [
    "df.groupby('owner')['km_driven'].mean().plot(kind='bar')\n",
    "plt.ylabel('Average km_driven')\n",
    "plt.title('Average km_driven by Ownership Type')\n",
    "plt.show()"
   ]
  },
  {
   "cell_type": "markdown",
   "id": "193bdaf6",
   "metadata": {},
   "source": [
    "Question 6: Use the IQR method to detect and remove outliers from the km_driven column. Show before-and-after summary statistics."
   ]
  },
  {
   "cell_type": "code",
   "execution_count": null,
   "id": "cb15c5c9",
   "metadata": {},
   "outputs": [],
   "source": [
    "Q1 = df['km_driven'].quantile(0.25)\n",
    "Q3 = df['km_driven'].quantile(0.75)\n",
    "IQR = Q3 - Q1\n",
    "\n",
    "before = df['km_driven'].describe()\n",
    "df_filtered = df[~((df['km_driven'] < (Q1 - 1.5 * IQR)) | (df['km_driven'] > (Q3 + 1.5 * IQR)))]\n",
    "after = df_filtered['km_driven'].describe()\n",
    "\n",
    "print('Before Outlier Removal:\\n', before)\n",
    "print('\\nAfter Outlier Removal:\\n', after)"
   ]
  },
  {
   "cell_type": "markdown",
   "id": "4a96f378",
   "metadata": {},
   "source": [
    "Question 7: Create a scatter plot of year vs. selling_price to explore the relationship between a bike's age and its price."
   ]
  },
  {
   "cell_type": "code",
   "execution_count": null,
   "id": "436a7bde",
   "metadata": {},
   "outputs": [],
   "source": [
    "plt.scatter(df['year'], df['selling_price'], alpha=0.5)\n",
    "plt.xlabel('Year')\n",
    "plt.ylabel('Selling Price')\n",
    "plt.title('Year vs Selling Price')\n",
    "plt.show()"
   ]
  },
  {
   "cell_type": "markdown",
   "id": "c830c31e",
   "metadata": {},
   "source": [
    "Question 8: Convert the seller_type column into numeric format using one-hot encoding. Display the first 5 rows of the resulting DataFrame."
   ]
  },
  {
   "cell_type": "code",
   "execution_count": null,
   "id": "507c7888",
   "metadata": {},
   "outputs": [],
   "source": [
    "df_encoded = pd.get_dummies(df, columns=['seller_type'])\n",
    "df_encoded.head()"
   ]
  },
  {
   "cell_type": "markdown",
   "id": "80ce6ee6",
   "metadata": {},
   "source": [
    "Question 9: Generate a heatmap of the correlation matrix for all numeric columns. What correlations stand out the most?"
   ]
  },
  {
   "cell_type": "code",
   "execution_count": null,
   "id": "d021a347",
   "metadata": {},
   "outputs": [],
   "source": [
    "import seaborn as sns\n",
    "\n",
    "corr = df.corr(numeric_only=True)\n",
    "sns.heatmap(corr, annot=True, cmap='coolwarm')\n",
    "plt.title('Correlation Heatmap')\n",
    "plt.show()"
   ]
  },
  {
   "cell_type": "markdown",
   "id": "b4505a24",
   "metadata": {},
   "source": [
    "Question 10: Summarize your findings in a brief report:\n",
    "- What are the most important factors affecting a bike's selling price?\n",
    "- Mention any data cleaning or feature engineering you performed."
   ]
  },
  {
   "cell_type": "code",
   "execution_count": null,
   "id": "53410bde",
   "metadata": {},
   "outputs": [],
   "source": [
    "print(\"Summary Findings:\")\n",
    "print(\"- Selling price strongly depends on year, ownership type, and km_driven.\")\n",
    "print(\"- Outliers were removed using IQR method from km_driven column.\")\n",
    "print(\"- Seller type was encoded into numeric values for modeling.\")"
   ]
  }
 ],
 "metadata": {},
 "nbformat": 4,
 "nbformat_minor": 5
}
