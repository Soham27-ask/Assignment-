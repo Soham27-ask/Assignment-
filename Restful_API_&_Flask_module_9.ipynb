{
  "nbformat": 4,
  "nbformat_minor": 0,
  "metadata": {
    "colab": {
      "provenance": []
    },
    "kernelspec": {
      "name": "python3",
      "display_name": "Python 3"
    },
    "language_info": {
      "name": "python"
    }
  },
  "cells": [
    {
      "cell_type": "markdown",
      "source": [
        "Q1. What is a RESTful API?\n",
        "\n",
        "A RESTful API follows the principles of REST (Representational State Transfer).\n",
        "It allows communication between systems using standard HTTP methods like GET, POST, PUT, DELETE.\n",
        "It uses stateless operations and often returns data in JSON format."
      ],
      "metadata": {
        "id": "4mkhTcDTlHvA"
      }
    },
    {
      "cell_type": "markdown",
      "source": [
        "Q2. Explain the concept of API specification.\n",
        "\n",
        "An API specification defines how APIs should behave and communicate.\n",
        "It includes details like endpoints, request/response formats, and authentication.\n",
        "Popular formats include OpenAPI (Swagger)."
      ],
      "metadata": {
        "id": "-vxJRJLLlRBB"
      }
    },
    {
      "cell_type": "markdown",
      "source": [
        "Q3. What is Flask, and why is it popular for building APIs?\n",
        "\n",
        "Flask is a lightweight Python web framework.\n",
        "It's popular because it's simple, flexible, and easy to use for creating APIs.\n",
        "It supports extensions and has minimal setup.\n",
        "\n"
      ],
      "metadata": {
        "id": "cDAV1vyxlVvj"
      }
    },
    {
      "cell_type": "markdown",
      "source": [
        "Q4. What is routing in Flask?\n",
        "\n",
        "Routing maps URLs to functions in Flask.\n",
        "When a user visits a URL, Flask calls the linked function.\n",
        "Routes are defined using the @app.route() decorator.\n",
        "\n"
      ],
      "metadata": {
        "id": "g872Rn_Ylbhg"
      }
    },
    {
      "cell_type": "markdown",
      "source": [
        "Q5. How do you create a simple Flask application?\n",
        "\n",
        "from flask import Flask  \n",
        "app = Flask(__name__)  \n",
        "\n",
        "@app.route('/')  \n",
        "def hello():  \n",
        "    return \"Hello, World!\"  \n"
      ],
      "metadata": {
        "id": "nDl5wAUIlhNR"
      }
    },
    {
      "cell_type": "markdown",
      "source": [
        "\n",
        "Q6. What are HTTP methods used in RESTful APIs?\n",
        "Common HTTP methods include:\n",
        "\n",
        "GET: Retrieve data\n",
        "\n",
        "POST: Submit data\n",
        "\n",
        "PUT: Update data\n",
        "\n",
        "DELETE: Remove data"
      ],
      "metadata": {
        "id": "CrZhfoallrPj"
      }
    },
    {
      "cell_type": "markdown",
      "source": [
        "Q7. What is the purpose of the @app.route() decorator in Flask?\n",
        "\n",
        "It binds a URL path to a view function.\n",
        "For example, @app.route('/home') means Flask will call that function when /home is visited."
      ],
      "metadata": {
        "id": "_yOVfnC6lv5i"
      }
    },
    {
      "cell_type": "markdown",
      "source": [
        "Q8. What is the difference between GET and POST HTTP methods?\n",
        "\n",
        "GET retrieves data without changing anything.\n",
        "POST sends data to the server to create or update something.\n",
        "GET shows data in the URL; POST hides it in the body."
      ],
      "metadata": {
        "id": "nCaPZ1Ktl0a2"
      }
    },
    {
      "cell_type": "markdown",
      "source": [
        "Q9. How do you handle errors in Flask APIs?\n",
        "\n",
        "You can use Flask’s @app.errorhandler() decorator.\n",
        "It helps return custom error messages (e.g., 404 or 500).\n",
        "You can also use try-except blocks inside your views."
      ],
      "metadata": {
        "id": "aMdBvHgCl4pp"
      }
    },
    {
      "cell_type": "markdown",
      "source": [
        "Q10. How do you connect Flask to a SQL database?\n",
        "\n",
        "Use Flask-SQLAlchemy for easy integration.\n",
        "You define models in Python, and SQLAlchemy manages the database.\n",
        "It supports SQLite, MySQL, PostgreSQL, etc.\n",
        "\n"
      ],
      "metadata": {
        "id": "cl_I_GwbmBYf"
      }
    },
    {
      "cell_type": "markdown",
      "source": [
        "Q11. What is the role of Flask-SQLAlchemy?\n",
        "\n",
        "It simplifies database integration in Flask.\n",
        "It provides ORM (Object Relational Mapping) for interacting with the database using Python classes."
      ],
      "metadata": {
        "id": "z50R2IhBmDVj"
      }
    },
    {
      "cell_type": "markdown",
      "source": [
        "Q12. What are Flask blueprints, and how are they useful?\n",
        "\n",
        "Blueprints organize large Flask apps into components.\n",
        "They allow you to group routes, templates, and static files.\n",
        "This improves modularity and code reusability."
      ],
      "metadata": {
        "id": "Iwgy1_EtmG9d"
      }
    },
    {
      "cell_type": "markdown",
      "source": [
        "Q13. What is the purpose of Flask's request object?\n",
        "\n",
        "It lets you access incoming request data.\n",
        "You can use request.args, request.form, or request.json to read query strings, form data, or JSON.\n",
        "\n"
      ],
      "metadata": {
        "id": "fPZZWqy5mLxY"
      }
    },
    {
      "cell_type": "markdown",
      "source": [
        "Q14. How do you create a RESTful API endpoint using Flask?\n",
        "\n",
        "Define a route using @app.route() and specify methods like GET or POST.\n",
        "Return a JSON response using jsonify()."
      ],
      "metadata": {
        "id": "KixfIY4cmPp5"
      }
    },
    {
      "cell_type": "markdown",
      "source": [
        "Q15. What is the purpose of Flask’s jsonify() function?\n",
        "\n",
        "It converts Python data (like dictionaries) to JSON format.\n",
        "This is useful for sending structured responses in APIs."
      ],
      "metadata": {
        "id": "k4swYFWBmSh6"
      }
    },
    {
      "cell_type": "markdown",
      "source": [
        "Q16. Explain Flask’s url_for() function.\n",
        "\n",
        "url_for() builds a URL for a view function using its name.\n",
        "It helps avoid hardcoding URLs and supports dynamic paths."
      ],
      "metadata": {
        "id": "3OI5pyv2mWqW"
      }
    },
    {
      "cell_type": "markdown",
      "source": [
        "Q17. How does Flask handle static files (CSS, JavaScript, etc.)?\n",
        "\n",
        "Flask serves static files from the static/ folder.\n",
        "Use url_for('static', filename='style.css') in templates to reference them."
      ],
      "metadata": {
        "id": "K3ZsUYu8mcBv"
      }
    },
    {
      "cell_type": "markdown",
      "source": [
        "Q18. What is an API specification, and how does it help in building a Flask API?\n",
        "\n",
        "It documents the structure, endpoints, and rules of an API.\n",
        "Tools like Swagger can generate interactive docs.\n",
        "It helps developers understand and test the API.\n",
        "\n"
      ],
      "metadata": {
        "id": "MUU4CKwKmfuJ"
      }
    },
    {
      "cell_type": "markdown",
      "source": [
        "Q19. What are HTTP status codes, and why are they important in a Flask API?\n",
        "\n",
        "They indicate the result of an HTTP request.\n",
        "For example, 200 means success, 404 means not found, and 500 means server error.\n",
        "They help clients understand API responses.\n",
        "\n"
      ],
      "metadata": {
        "id": "oEmPaHMimmO0"
      }
    },
    {
      "cell_type": "markdown",
      "source": [
        "Q20. How do you handle POST requests in Flask?\n",
        "\n",
        "Use @app.route('/example', methods=['POST']).\n",
        "Access data using request.form or request.json depending on content type."
      ],
      "metadata": {
        "id": "nGkfeJ2Ymojm"
      }
    },
    {
      "cell_type": "markdown",
      "source": [
        "Q21. How would you secure a Flask API?\n",
        "\n",
        "Use HTTPS, authentication (JWT, API keys), and validation.\n",
        "Implement rate limiting and handle errors securely to prevent attacks.\n",
        "\n"
      ],
      "metadata": {
        "id": "-KtBsBkmmsPn"
      }
    },
    {
      "cell_type": "markdown",
      "source": [
        "Q22. What is the significance of the Flask-RESTful extension?\n",
        "\n",
        "Flask-RESTful simplifies building REST APIs.\n",
        "It offers tools like Resource classes and built-in request parsing."
      ],
      "metadata": {
        "id": "bRW_UD1bmxA-"
      }
    },
    {
      "cell_type": "markdown",
      "source": [
        "Q23. What is the role of Flask’s session object?\n",
        "\n",
        "It stores data for a user session between requests.\n",
        "Flask encrypts it and stores it in a cookie on the client side."
      ],
      "metadata": {
        "id": "jkY6ke6am1oE"
      }
    },
    {
      "cell_type": "markdown",
      "source": [
        "Practical"
      ],
      "metadata": {
        "id": "qqFKqnhBm26q"
      }
    },
    {
      "cell_type": "markdown",
      "source": [
        "#1 How do you create a basic Flask application?\n",
        "\n",
        "![image.png](data:image/png;base64,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)"
      ],
      "metadata": {
        "id": "qdwe_pPuuAEB"
      }
    },
    {
      "cell_type": "code",
      "source": [
        "2 How do you serve static files like images or CSS in Flask?\n",
        "from flask import Flask, render_template\n",
        "\n",
        "# Create Flask app instance\n",
        "app = Flask(__name__)\n",
        "\n",
        "# Home route\n",
        "@app.route('/')\n",
        "def hello():\n",
        "    return render_template('index.html')  # Renders HTML page\n",
        "\n",
        "# Run the app\n",
        "if __name__ == '__main__':\n",
        "    app.run(debug=True)\n",
        "#html\n",
        "<!DOCTYPE html>\n",
        "<html lang=\"en\">\n",
        "<head>\n",
        "    <meta charset=\"UTF-8\">\n",
        "    <title>Hello World</title>\n",
        "    <link rel=\"stylesheet\" href=\"{{ url_for('static', filename='style.css') }}\">\n",
        "</head>\n",
        "<body>\n",
        "    <h1>Hello, World from Flask!</h1>\n",
        "    <p>This is a styled Flask web page using a template and static CSS.</p>\n",
        "</body>\n",
        "</html>\n",
        "\n"
      ],
      "metadata": {
        "id": "p6ghnkflt4eI"
      },
      "execution_count": null,
      "outputs": []
    },
    {
      "cell_type": "code",
      "source": [
        "#3 How do you define different routes with different HTTP methods in Flask?\n",
        "from flask import Flask, request\n",
        "\n",
        "app = Flask(__name__)\n",
        "\n",
        "# This route accepts GET requests\n",
        "@app.route('/')\n",
        "def home():\n",
        "    return \"Welcome to the Home Page (GET request)\"\n",
        "\n",
        "# This route accepts both GET and POST\n",
        "@app.route('/submit', methods=['GET', 'POST'])\n",
        "def submit():\n",
        "    if request.method == 'POST':\n",
        "        return \"Data submitted via POST!\"\n",
        "    else:\n",
        "        return \"Submit something using POST.\"\n",
        "\n",
        "if __name__ == '__main__':\n",
        "    app.run(debug=True)\n",
        "\n"
      ],
      "metadata": {
        "id": "BveRrF94nfCS"
      },
      "execution_count": 1,
      "outputs": []
    },
    {
      "cell_type": "markdown",
      "source": [
        "#4 How do you render HTML templates in Flask?\n",
        "\n",
        "from flask import Flask, render_template\n",
        "\n",
        "app = Flask(__name__)\n",
        "\n",
        "@app.route('/')\n",
        "def home():\n",
        "    return render_template('index.html')  # Renders index.html from templates folder\n",
        "\n",
        "if __name__ == '__main__':\n",
        "    app.run(debug=True)\n",
        "\n"
      ],
      "metadata": {
        "id": "x8xi5dCV8E_7"
      }
    },
    {
      "cell_type": "markdown",
      "source": [
        "#5 How can you generate URLs for routes in Flask using url_for?\n",
        "from flask import Flask, url_for, redirect\n",
        "\n",
        "app = Flask(__name__)\n",
        "\n",
        "@app.route('/')\n",
        "def home():\n",
        "    return '<a href=\"' + url_for('about') + '\">Go to About</a>'\n",
        "\n",
        "@app.route('/about')\n",
        "def about():\n",
        "    return \"This is the About page.\"\n",
        "\n",
        "if __name__ == '__main__':\n",
        "    app.run(debug=True)\n"
      ],
      "metadata": {
        "id": "hp5Fl09Q8U7R"
      }
    },
    {
      "cell_type": "markdown",
      "source": [
        "#6 How do you handle forms in Flask?\n",
        "from flask import Flask, render_template, request\n",
        "\n",
        "app = Flask(__name__)\n",
        "\n",
        "@app.route('/', methods=['GET', 'POST'])\n",
        "def form():\n",
        "    if request.method == 'POST':\n",
        "        name = request.form['name']\n",
        "        return f\"<h2>Hello, {name}!</h2>\"\n",
        "    return render_template('form.html')\n",
        "\n",
        "if __name__ == '__main__':\n",
        "    app.run(debug=True)\n",
        "\n",
        "#htlm\n",
        "<!DOCTYPE html>\n",
        "<html>\n",
        "<head>\n",
        "    <title>Flask Form Example</title>\n",
        "</head>\n",
        "<body>\n",
        "    <h1>Enter Your Name</h1>\n",
        "    <form method=\"POST\" action=\"/\">\n",
        "        <input type=\"text\" name=\"name\" required>\n",
        "        <button type=\"submit\">Submit</button>\n",
        "    </form>\n",
        "</body>\n",
        "</html>\n",
        "\n"
      ],
      "metadata": {
        "id": "zkJwULfj8g-z"
      }
    },
    {
      "cell_type": "markdown",
      "source": [
        "#7  How can you validate form data in Flask?\n",
        "from flask import Flask, render_template, request\n",
        "\n",
        "app = Flask(__name__)\n",
        "\n",
        "@app.route('/', methods=['GET', 'POST'])\n",
        "def form():\n",
        "    error = None\n",
        "    if request.method == 'POST':\n",
        "        name = request.form.get('name')\n",
        "        if not name or len(name) < 3:\n",
        "            error = \"Name must be at least 3 characters long.\"\n",
        "        else:\n",
        "            return f\"<h2>Welcome, {name}!</h2>\"\n",
        "    return render_template('form.html', error=error)\n",
        "\n",
        "if __name__ == '__main__':\n",
        "    app.run(debug=True)\n",
        "\n",
        "# html\n",
        "<!DOCTYPE html>\n",
        "<html>\n",
        "<head>\n",
        "    <title>Validation Example</title>\n",
        "</head>\n",
        "<body>\n",
        "    <h1>Enter Your Name</h1>\n",
        "    {% if error %}\n",
        "        <p style=\"color: red;\">{{ error }}</p>\n",
        "    {% endif %}\n",
        "    <form method=\"POST\" action=\"/\">\n",
        "        <input type=\"text\" name=\"name\" required>\n",
        "        <button type=\"submit\">Submit</button>\n",
        "    </form>\n",
        "</body>\n",
        "</html>\n"
      ],
      "metadata": {
        "id": "SOCTPLQY8zVj"
      }
    },
    {
      "cell_type": "markdown",
      "source": [
        "#8 M How do you manage sessions in Flask?\n",
        "from flask import Flask, session, redirect, url_for, request, render_template\n",
        "\n",
        "app = Flask(__name__)\n",
        "app.secret_key = 'your_secret_key'  # Required to use sessions\n",
        "\n",
        "@app.route('/')\n",
        "def index():\n",
        "    username = session.get('username')\n",
        "    return render_template('index.html', username=username)\n",
        "\n",
        "@app.route('/login', methods=['POST'])\n",
        "def login():\n",
        "    session['username'] = request.form['username']\n",
        "    return redirect(url_for('index'))\n",
        "\n",
        "@app.route('/logout')\n",
        "def logout():\n",
        "    session.pop('username', None)\n",
        "    return redirect(url_for('index'))\n",
        "\n",
        "if __name__ == '__main__':\n",
        "    app.run(debug=True)\n",
        "#html\n",
        "<!DOCTYPE html>\n",
        "<html>\n",
        "<head>\n",
        "    <title>Session Example</title>\n",
        "</head>\n",
        "<body>\n",
        "    {% if username %}\n",
        "        <h2>Welcome, {{ username }}!</h2>\n",
        "        <a href=\"{{ url_for('logout') }}\">Logout</a>\n",
        "    {% else %}\n",
        "        <form method=\"POST\" action=\"{{ url_for('login') }}\">\n",
        "            <label>Username:</label>\n",
        "            <input type=\"text\" name=\"username\" required>\n",
        "            <button type=\"submit\">Login</button>\n",
        "        </form>\n",
        "    {% endif %}\n",
        "</body>\n",
        "</html>\n"
      ],
      "metadata": {
        "id": "RnBEeupr9D0u"
      }
    },
    {
      "cell_type": "markdown",
      "source": [
        "#9 How do you redirect to a different route in Flask?\n",
        "\n",
        "from flask import Flask, redirect, url_for\n",
        "\n",
        "app = Flask(__name__)\n",
        "\n",
        "@app.route('/')\n",
        "def home():\n",
        "    return \"Welcome to the Home Page!\"\n",
        "\n",
        "@app.route('/go-to-about')\n",
        "def go_to_about():\n",
        "    return redirect(url_for('about'))  # Redirect to /about route\n",
        "\n",
        "@app.route('/about')\n",
        "def about():\n",
        "    return \"This is the About Page.\"\n",
        "\n",
        "if __name__ == '__main__':\n",
        "    app.run(debug=True)\n"
      ],
      "metadata": {
        "id": "qTXxDU9_9Uar"
      }
    },
    {
      "cell_type": "code",
      "source": [
        "#10 How do you handle errors in Flask (e.g., 404)?\n",
        "from flask import Flask, render_template\n",
        "\n",
        "app = Flask(__name__)\n",
        "\n",
        "@app.route('/')\n",
        "def home():\n",
        "    return \"Welcome to the Home Page!\"\n",
        "\n",
        "# Custom 404 Error Handler\n",
        "@app.errorhandler(404)\n",
        "def page_not_found(error):\n",
        "    return render_template('404.html'), 404\n",
        "\n",
        "if __name__ == '__main__':\n",
        "    app.run(debug=True)\n",
        "#html\n",
        "<!DOCTYPE html>\n",
        "<html>\n",
        "<head>\n",
        "    <title>Page Not Found</title>\n",
        "</head>\n",
        "<body>\n",
        "    <h1>404 - Page Not Found</h1>\n",
        "    <p>The page you're looking for doesn't exist.</p>\n",
        "    <a href=\"/\">Go back home</a>\n",
        "</body>\n",
        "</html>\n"
      ],
      "metadata": {
        "id": "m0r6oZ6l9jQO"
      },
      "execution_count": null,
      "outputs": []
    },
    {
      "cell_type": "markdown",
      "source": [
        "#11  How do you structure a Flask app using Blueprints?\n",
        "from flask import Flask\n",
        "from main.routes import main_bp  # Import blueprint\n",
        "\n",
        "app = Flask(__name__)\n",
        "app.register_blueprint(main_bp)  # Register blueprint\n",
        "\n",
        "if __name__ == '__main__':\n",
        "    app.run(debug=True)\n",
        "#Blueprint\n",
        "from flask import Blueprint, render_template\n",
        "\n",
        "main_bp = Blueprint('main_bp', __name__, template_folder='templates')\n",
        "\n",
        "@main_bp.route('/')\n",
        "def main_home():\n",
        "    return render_template('main_home.html')\n"
      ],
      "metadata": {
        "id": "1aGgTvhK96WL"
      }
    },
    {
      "cell_type": "code",
      "source": [
        "#12 How do you define a custom Jinja filter in Flask?\n",
        "from flask import Flask, render_template\n",
        "\n",
        "app = Flask(__name__)\n",
        "\n",
        "# ✅ Define custom Jinja filter\n",
        "@app.template_filter('reverse')\n",
        "def reverse_string(s):\n",
        "    return s[::-1]\n",
        "\n",
        "@app.route('/')\n",
        "def home():\n",
        "    return render_template('index.html', name='Flask')\n",
        "\n",
        "if __name__ == '__main__':\n",
        "    app.run(debug=True)\n",
        "<!DOCTYPE html>\n",
        "<html>\n",
        "<head>\n",
        "    <title>Custom Jinja Filter</title>\n",
        "</head>\n",
        "<body>\n",
        "    <h2>Original: {{ name }}</h2>\n",
        "    <h2>Reversed: {{ name | reverse }}</h2>\n",
        "</body>\n",
        "</html>\n",
        "\n"
      ],
      "metadata": {
        "id": "JIFY8EAX-Lmg"
      },
      "execution_count": null,
      "outputs": []
    },
    {
      "cell_type": "code",
      "source": [
        "#13 How can you redirect with query parameters in Flask?\n",
        "from flask import Flask, redirect, url_for, request\n",
        "\n",
        "app = Flask(__name__)\n",
        "\n",
        "@app.route('/')\n",
        "def home():\n",
        "    # Redirect with query parameters\n",
        "    return redirect(url_for('greet', name='Alex', age=25))\n",
        "\n",
        "@app.route('/greet')\n",
        "def greet():\n",
        "    # Get query parameters\n",
        "    name = request.args.get('name')\n",
        "    age = request.args.get('age')\n",
        "    return f\"Hello, {name}! You are {age} years old.\"\n",
        "\n",
        "if __name__ == '__main__':\n",
        "    app.run(debug=True)\n",
        "\n"
      ],
      "metadata": {
        "id": "MdJqxakJ-fOs"
      },
      "execution_count": null,
      "outputs": []
    },
    {
      "cell_type": "code",
      "source": [
        "#14  How do you return JSON responses in Flask?\n",
        "\n",
        "from flask import Flask, jsonify\n",
        "\n",
        "app = Flask(__name__)\n",
        "\n",
        "@app.route('/api/user')\n",
        "def get_user():\n",
        "    user = {\n",
        "        'id': 1,\n",
        "        'name': 'Alex',\n",
        "        'email': 'alex@example.com'\n",
        "    }\n",
        "    return jsonify(user)\n",
        "\n",
        "if __name__ == '__main__':\n",
        "    app.run(debug=True)\n"
      ],
      "metadata": {
        "id": "IiPJxI2X-tqR"
      },
      "execution_count": null,
      "outputs": []
    },
    {
      "cell_type": "code",
      "source": [
        "#15 How do you capture URL parameters in Flask?\n",
        "from flask import Flask\n",
        "\n",
        "app = Flask(__name__)\n",
        "\n",
        "@app.route('/user/<username>')\n",
        "def show_user(username):\n",
        "    return f\"Hello, {username}!\"\n"
      ],
      "metadata": {
        "id": "kbMSAZul-6PY"
      },
      "execution_count": null,
      "outputs": []
    }
  ]
}