{
  "nbformat": 4,
  "nbformat_minor": 0,
  "metadata": {
    "colab": {
      "provenance": []
    },
    "kernelspec": {
      "name": "python3",
      "display_name": "Python 3"
    },
    "language_info": {
      "name": "python"
    }
  },
  "cells": [
    {
      "cell_type": "markdown",
      "source": [
        "Q1: What is Object-Oriented Programming (OOP)?\n",
        "\n",
        "->OOP is a programming paradigm based on the concept of objects.\n",
        "It helps organize code using classes and objects.\n",
        "OOP promotes code reuse, modularity, and scalability."
      ],
      "metadata": {
        "id": "HL2QjzQh7MbB"
      }
    },
    {
      "cell_type": "markdown",
      "source": [
        "Q2: What is a class in OOP?\n",
        "\n",
        "->A class is a blueprint for creating objects.\n",
        "It defines attributes (variables) and methods (functions).\n",
        "Classes encapsulate behavior and data together."
      ],
      "metadata": {
        "id": "D2hH1xmp8Ltw"
      }
    },
    {
      "cell_type": "markdown",
      "source": [
        "Q3: What is an object in OOP?\n",
        "\n",
        "->An object is an instance of a class.\n",
        "It holds real data and can call class methods.\n",
        "Multiple objects can be created from the same class."
      ],
      "metadata": {
        "id": "UJYfSMDi8ZNJ"
      }
    },
    {
      "cell_type": "markdown",
      "source": [
        "Q4: What is the difference between abstraction and encapsulation?\n",
        "\n",
        "->Abstraction hides complex implementation using interfaces.\n",
        "Encapsulation wraps data and methods into one unit (class).\n",
        "Abstraction focuses on what, encapsulation on how and protection."
      ],
      "metadata": {
        "id": "I9q-uith8jPw"
      }
    },
    {
      "cell_type": "markdown",
      "source": [
        "Q5: What are dunder methods in Python?\n",
        "\n",
        "->Dunder (double underscore) methods are special methods like __init__, __str__, etc.\n",
        "They enable operator overloading and customization.\n",
        "They are also known as \"magic methods.\""
      ],
      "metadata": {
        "id": "vUHKLFWS8u9-"
      }
    },
    {
      "cell_type": "markdown",
      "source": [
        "Q6: Explain the concept of inheritance in OOP.\n",
        "\n",
        "->Inheritance allows a class to inherit features from another class.\n",
        "It promotes code reuse and hierarchy.\n",
        "Child classes can override or extend parent class behavior."
      ],
      "metadata": {
        "id": "axFLdxbB82c4"
      }
    },
    {
      "cell_type": "markdown",
      "source": [
        "Q7: What is polymorphism in OOP?\n",
        "\n",
        "->Polymorphism means \"many forms\" — the same interface works for different data types.\n",
        "In Python, it’s often achieved via method overriding.\n",
        "It enables flexible and interchangeable object usage.\n",
        "\n"
      ],
      "metadata": {
        "id": "B_vfz6rs87za"
      }
    },
    {
      "cell_type": "markdown",
      "source": [
        "Q8: How is encapsulation achieved in Python?\n",
        "\n",
        "->By using classes and making variables private (_ or __).\n",
        "Access to private data is controlled via methods.\n",
        "This protects data from unintended modification."
      ],
      "metadata": {
        "id": "eBNUpN3k9BNy"
      }
    },
    {
      "cell_type": "markdown",
      "source": [
        "Q9: What is a constructor in Python?\n",
        "\n",
        "->A constructor is the __init__ method in a class.\n",
        "It initializes object properties when the object is created.\n",
        "It runs automatically upon object instantiation.\n"
      ],
      "metadata": {
        "id": "rAFl1X8J9Gsh"
      }
    },
    {
      "cell_type": "markdown",
      "source": [
        "Q10: What are class and static methods in Python?\n",
        "\n",
        "->@classmethod takes cls and works with class-level data.\n",
        "@staticmethod doesn’t take self or cls and works independently.\n",
        "Both are accessed via the class name."
      ],
      "metadata": {
        "id": "hsbgWpXk9OqP"
      }
    },
    {
      "cell_type": "markdown",
      "source": [
        "Q11: What is method overloading in Python?\n",
        "\n",
        "->Python does not support traditional overloading directly.\n",
        "However, you can simulate it using default arguments or *args.\n",
        "Only the latest method definition is used."
      ],
      "metadata": {
        "id": "zG38JTc_9WV6"
      }
    },
    {
      "cell_type": "markdown",
      "source": [
        "Q12: What is method overriding in OOP?\n",
        "\n",
        "->Overriding occurs when a child class redefines a method from the parent class.\n",
        "The new version replaces the inherited one.\n",
        "It allows customized behavior in subclasses."
      ],
      "metadata": {
        "id": "c7EM6g6g9dJc"
      }
    },
    {
      "cell_type": "markdown",
      "source": [
        "Q13: What is a property decorator in Python?\n",
        "\n",
        "->@property lets you define methods as attributes.\n",
        "It enables controlled access to class data.\n",
        "Useful for creating read-only or computed attributes."
      ],
      "metadata": {
        "id": "CnkUD-jb9jCI"
      }
    },
    {
      "cell_type": "markdown",
      "source": [
        "Q14: Why is polymorphism important in OOP?\n",
        "\n",
        "->It makes code more flexible and extensible.\n",
        "Functions can work with objects of different types.\n",
        "It supports interface-based design.\n",
        "\n"
      ],
      "metadata": {
        "id": "aDXVH6Di9oP-"
      }
    },
    {
      "cell_type": "markdown",
      "source": [
        "Q15: What is an abstract class in Python?\n",
        "\n",
        "->An abstract class defines methods that must be implemented by subclasses.\n",
        "Use abc.ABC and @abstractmethod.\n",
        "It enforces structure and prevents incomplete object creation.\n",
        "\n"
      ],
      "metadata": {
        "id": "x4g2004V-H8v"
      }
    },
    {
      "cell_type": "markdown",
      "source": [
        "Q16: What are the advantages of OOP?\n",
        "\n",
        "->Code reusability (via inheritance), Modularity and organization,Easier maintenance and scalability"
      ],
      "metadata": {
        "id": "iWdATsM0-PV3"
      }
    },
    {
      "cell_type": "markdown",
      "source": [
        "Q17: What is the difference between a class variable and an instance variable?\n",
        "\n",
        "->Class variables are shared across all objects.Instance variables are unique to each object.\n",
        "Class vars are defined outside __init__, instance vars inside.\n"
      ],
      "metadata": {
        "id": "0rLyHyZ0-fNC"
      }
    },
    {
      "cell_type": "markdown",
      "source": [
        "Q18: What is multiple inheritance in Python?\n",
        "\n",
        "->A class can inherit from more than one class.Syntax: class C(A, B):\n",
        "Use super() and MRO to manage complexity."
      ],
      "metadata": {
        "id": "F35E73Df-6j6"
      }
    },
    {
      "cell_type": "markdown",
      "source": [
        "Q19: Explain the purpose of __str__ and __repr__ methods.\n",
        "\n",
        "->__str__: User-friendly string representation (print(obj))\n",
        "__repr__: Official string, for debugging (repr(obj))\n",
        "Use __repr__ when accuracy matters.\n"
      ],
      "metadata": {
        "id": "4iZ52s69-9AX"
      }
    },
    {
      "cell_type": "markdown",
      "source": [
        "Q20: What is the significance of super() in Python?\n",
        "\n",
        "->super() calls methods from the parent class.\n",
        "Used mainly in constructors or overridden methods.\n",
        "Helps with multiple inheritance and avoids redundancy."
      ],
      "metadata": {
        "id": "w834kY9V_CLl"
      }
    },
    {
      "cell_type": "markdown",
      "source": [
        "Q21: What is the significance of the __del__ method in Python?\n",
        "\n",
        "->__del__ is a destructor called when an object is deleted.\n",
        "Use it to release resources (e.g., close files).\n",
        "Not always reliable — use with caution.\n"
      ],
      "metadata": {
        "id": "os0GaA2S_RRE"
      }
    },
    {
      "cell_type": "markdown",
      "source": [
        "\n",
        "Q22: What is the difference between @staticmethod and @classmethod?\n",
        "\n",
        "->@staticmethod: No access to self or cls.\n",
        "\n",
        "@classmethod: Accesses class (cls) and can modify class state.\n",
        "Use based on what you need to access.\n"
      ],
      "metadata": {
        "id": "rob4o6bb_SXr"
      }
    },
    {
      "cell_type": "markdown",
      "source": [
        "Q23: How does polymorphism work in Python with inheritance?\n",
        "\n",
        "->Child classes override methods from the parent.\n",
        "The same method name behaves differently depending on the object.\n",
        "Allows unified interface with varied behavior."
      ],
      "metadata": {
        "id": "f1TNISjn_cAv"
      }
    },
    {
      "cell_type": "markdown",
      "source": [
        "Q24: What is method chaining in Python OOP?\n",
        "\n",
        "->Method chaining means calling multiple methods in one line.\n",
        "Each method returns self.\n",
        "Example: obj.method1().method2().method3()"
      ],
      "metadata": {
        "id": "3nU2OvOj_fx8"
      }
    },
    {
      "cell_type": "markdown",
      "source": [
        "Q25: What is the purpose of the __call__ method in Python?\n",
        "\n",
        "->__call__ makes an object callable like a function.\n",
        "It’s defined with def __call__(self):.\n",
        "Used in decorators, wrappers, and fluent interfaces."
      ],
      "metadata": {
        "id": "LVeS5WiF_kyW"
      }
    },
    {
      "cell_type": "code",
      "source": [
        "# 1. Create a parent class Animal with a method speak() that prints a generic message. Create a child class Dog that overrides the speak() method to print \"Bark!\".\n",
        "\n",
        "class Animal:\n",
        "  def speak(self):\n",
        "    print(\"Animal sound\")\n",
        "\n",
        "class Dog(Animal):\n",
        "  def speak(self):\n",
        "    print(\"Bark!\")\n",
        "\n",
        "Animal = Animal()\n",
        "Animal.speak()\n",
        "\n",
        "dog = Dog()\n",
        "dog.speak()\n"
      ],
      "metadata": {
        "colab": {
          "base_uri": "https://localhost:8080/"
        },
        "id": "ih2mCFzHi7RV",
        "outputId": "dfcfe9a5-18eb-4f9f-867f-2cd16dd1f7d6"
      },
      "execution_count": 1,
      "outputs": [
        {
          "output_type": "stream",
          "name": "stdout",
          "text": [
            "Animal sound\n",
            "Bark!\n"
          ]
        }
      ]
    },
    {
      "cell_type": "code",
      "source": [
        "# 2. Write a program to create an abstract class Shape with a method area(). Derive classes Circle and Rectangle from it and implement the area() method in both.\n",
        "from abc import ABC, abstractmethod\n",
        "import math\n",
        "\n",
        "# Abstract class\n",
        "class Shape(ABC):\n",
        "\n",
        "    @abstractmethod\n",
        "    def area(self):\n",
        "        pass\n",
        "\n",
        "class Circle(Shape):\n",
        "    def __init__(self, radius):\n",
        "        self.radius = radius\n",
        "\n",
        "    def area(self):\n",
        "        return math.pi * self.radius ** 2\n",
        "\n",
        "class Rectangle(Shape):\n",
        "    def __init__(self, length, width):\n",
        "        self.length = length\n",
        "        self.width = width\n",
        "\n",
        "    def area(self):\n",
        "        return self.length * self.width\n",
        "\n",
        "circle = Circle(5)\n",
        "rectangle = Rectangle(4, 6)\n",
        "\n",
        "print(f\"Area of Circle: {circle.area():.2f}\")\n",
        "print(f\"Area of Rectangle: {rectangle.area()}\")\n"
      ],
      "metadata": {
        "colab": {
          "base_uri": "https://localhost:8080/"
        },
        "id": "Li_96Wn-kRfs",
        "outputId": "f9275425-cdb2-4068-94e7-6917ceeda2fe"
      },
      "execution_count": 2,
      "outputs": [
        {
          "output_type": "stream",
          "name": "stdout",
          "text": [
            "Area of Circle: 78.54\n",
            "Area of Rectangle: 24\n"
          ]
        }
      ]
    },
    {
      "cell_type": "code",
      "source": [
        "# 3. Implement a multi-level inheritance scenario where a class Vehicle has an attribute type. Derive a class Car and further derive a class ElectricCar that adds a battery attribute.\n",
        "\n",
        "class Vehicle:\n",
        "    def __init__(self, type):\n",
        "        self.type = type\n",
        "\n",
        "class Car(Vehicle):\n",
        "    def __init__(self, type, brand):\n",
        "        super().__init__(type)\n",
        "        self.brand = brand\n",
        "\n",
        "class ElectricCar(Car):\n",
        "    def __init__(self, type, brand, battery_capacity):\n",
        "        super().__init__(type, brand)\n",
        "        self.battery = battery_capacity\n",
        "\n",
        "my_vehicle = Vehicle(\"Truck\")\n",
        "print(f\"Vehicle type: {my_vehicle.type}\")\n",
        "\n",
        "my_car = Car(type=\"Sedan\", brand=\"Toyota\")\n",
        "print(f\"Car type: {my_car.type}, Brand: {my_car.brand}\")\n",
        "\n",
        "my_electric_car = ElectricCar(\"SUV\", \"Tesla\", \"75kWh\")\n",
        "print(f\"Electric Car type: {my_electric_car.type}, Brand: {my_electric_car.brand}, Battery: {my_electric_car.battery}\")\n"
      ],
      "metadata": {
        "colab": {
          "base_uri": "https://localhost:8080/"
        },
        "id": "hj-wncc-lMNl",
        "outputId": "6ac4d606-3537-41f1-cba5-d3b857a64b98"
      },
      "execution_count": 3,
      "outputs": [
        {
          "output_type": "stream",
          "name": "stdout",
          "text": [
            "Vehicle type: Truck\n",
            "Car type: Sedan, Brand: Toyota\n",
            "Electric Car type: SUV, Brand: Tesla, Battery: 75kWh\n"
          ]
        }
      ]
    },
    {
      "cell_type": "code",
      "source": [
        "# 4. Demonstrate polymorphism by creating a base class Bird with a method fly(). Create two derived classes Sparrow and Penguin that override the fly() method.\n",
        "class Bird:\n",
        "  def fly(self):\n",
        "    print(\"Birds can fly.\")\n",
        "\n",
        "class Sparrow(Bird):\n",
        "  def fly(self):\n",
        "    print(\"Sparrows fly quickly.\")\n",
        "\n",
        "class Penguin(Bird):\n",
        "  def fly(self):\n",
        "    print(\"Penguins cannot fly, but they can swim.\")\n",
        "\n",
        "# Using polymorphism\n",
        "def make_it_fly(bird):\n",
        "  bird.fly()\n",
        "\n",
        "generic_bird = Bird()\n",
        "sparrow = Sparrow()\n",
        "penguin = Penguin()\n",
        "\n",
        "make_it_fly(generic_bird)\n",
        "make_it_fly(sparrow)\n",
        "make_it_fly(penguin)\n"
      ],
      "metadata": {
        "colab": {
          "base_uri": "https://localhost:8080/"
        },
        "id": "WMm-bff1lvkk",
        "outputId": "4402af6c-38aa-4e4d-9c8c-2016d919c305"
      },
      "execution_count": 6,
      "outputs": [
        {
          "output_type": "stream",
          "name": "stdout",
          "text": [
            "Birds can fly.\n",
            "Sparrows fly quickly.\n",
            "Penguins cannot fly, but they can swim.\n"
          ]
        }
      ]
    },
    {
      "cell_type": "code",
      "source": [
        "# 5. Write a program to demonstrate encapsulation by creating a class Bank Account with private attributes balance and methods to deposit, withdraw, and check balance\n",
        "\n",
        "class BankAccount:\n",
        "  def __init__(self):\n",
        "    self.__balance = 0  # Private attribute\n",
        "\n",
        "  def deposit(self, amount):\n",
        "    if amount > 0:\n",
        "      self.__balance += amount\n",
        "      print(f\"Deposited: ${amount}. New balance: ${self.__balance}\")\n",
        "    else:\n",
        "      print(\"Deposit amount must be positive.\")\n",
        "\n",
        "  def withdraw(self, amount):\n",
        "    if amount > 0:\n",
        "      if self.__balance >= amount:\n",
        "        self.__balance -= amount\n",
        "        print(f\"Withdrew: ${amount}. New balance: ${self.__balance}\")\n",
        "      else:\n",
        "        print(\"Insufficient funds.\")\n",
        "    else:\n",
        "      print(\"Withdrawal amount must be positive.\")\n",
        "\n",
        "  def check_balance(self):\n",
        "    print(f\"Current balance: ${self.__balance}\")\n",
        "\n",
        "# Demonstrate usage\n",
        "my_account = BankAccount()\n",
        "my_account.check_balance()\n",
        "my_account.deposit(1000)\n",
        "my_account.withdraw(300)\n",
        "my_account.check_balance()\n",
        "my_account.withdraw(800) # Should show insufficient funds\n",
        "my_account.deposit(-50) # Should show error message"
      ],
      "metadata": {
        "colab": {
          "base_uri": "https://localhost:8080/"
        },
        "id": "M5ccGF8khvCg",
        "outputId": "8b6eb0f5-8694-4464-e003-72db027b4e5c"
      },
      "execution_count": 7,
      "outputs": [
        {
          "output_type": "stream",
          "name": "stdout",
          "text": [
            "Current balance: $0\n",
            "Deposited: $1000. New balance: $1000\n",
            "Withdrew: $300. New balance: $700\n",
            "Current balance: $700\n",
            "Insufficient funds.\n",
            "Deposit amount must be positive.\n"
          ]
        }
      ]
    },
    {
      "cell_type": "code",
      "source": [
        "# 6. Demonstrate runtime polymorphism using a method play() in a base class Instrument. Derive classes Guitar and Piano that implement their own version of play().\n",
        "\n",
        "class Instrument:\n",
        "  def play(self):\n",
        "    print(\"An instrument is playing.\")\n",
        "\n",
        "class Guitar(Instrument):\n",
        "  def play(self):\n",
        "    print(\"The guitar is strumming.\")\n",
        "\n",
        "class Piano(Instrument):\n",
        "  def play(self):\n",
        "    print(\"The piano is playing a melody.\")\n",
        "\n",
        "# Demonstrate runtime polymorphism\n",
        "def perform_play(instrument):\n",
        "  instrument.play()\n",
        "\n",
        "guitar = Guitar()\n",
        "piano = Piano()\n",
        "instrument = Instrument()\n",
        "\n",
        "perform_play(instrument)\n",
        "perform_play(guitar)\n",
        "perform_play(piano)"
      ],
      "metadata": {
        "colab": {
          "base_uri": "https://localhost:8080/"
        },
        "id": "Q6ST0ECLh5W1",
        "outputId": "311730ac-ff0a-4e6e-ae69-a5deffe05577"
      },
      "execution_count": 9,
      "outputs": [
        {
          "output_type": "stream",
          "name": "stdout",
          "text": [
            "An instrument is playing.\n",
            "The guitar is strumming.\n",
            "The piano is playing a melody.\n"
          ]
        }
      ]
    },
    {
      "cell_type": "code",
      "source": [
        "# 7. Create a class MathOperations with a class method add_numbers() to add two numbers and a static method subtract_numbers() to subtract two numbers.\n",
        "\n",
        "class MathOperations:\n",
        "  @classmethod\n",
        "  def add_numbers(cls, a, b):\n",
        "    \"\"\"Adds two numbers using a class method.\"\"\"\n",
        "    return a + b\n",
        "\n",
        "  @staticmethod\n",
        "  def subtract_numbers(a, b):\n",
        "    \"\"\"Subtracts two numbers using a static method.\"\"\"\n",
        "    return a - b\n",
        "\n",
        "# Demonstrate usage\n",
        "sum_result = MathOperations.add_numbers(10, 5)\n",
        "print(f\"Sum using class method: {sum_result}\")\n",
        "\n",
        "difference_result = MathOperations.subtract_numbers(10, 5)\n",
        "print(f\"Difference using static method: {difference_result}\")"
      ],
      "metadata": {
        "colab": {
          "base_uri": "https://localhost:8080/"
        },
        "id": "9s81OyLTiL_q",
        "outputId": "398574cd-8efb-495e-b1a6-2c369e672a0b"
      },
      "execution_count": 12,
      "outputs": [
        {
          "output_type": "stream",
          "name": "stdout",
          "text": [
            "Sum using class method: 15\n",
            "Difference using static method: 5\n"
          ]
        }
      ]
    },
    {
      "cell_type": "code",
      "source": [
        "# 8. Implement a class Person with a class method to count the total number of persons created.\n",
        "\n",
        "class Person:\n",
        "    # Class variable to keep count\n",
        "    count = 0\n",
        "\n",
        "    def __init__(self, name):\n",
        "        self.name = name\n",
        "        # Increment count every time a new person is created\n",
        "        Person.count += 1\n",
        "\n",
        "    # Class method to get total number of persons\n",
        "    @classmethod\n",
        "    def total_persons(cls):\n",
        "        return cls.count\n",
        "\n",
        "# Creating person objects\n",
        "p1 = Person(\"Alice\")\n",
        "p2 = Person(\"Bob\")\n",
        "p3 = Person(\"Charlie\")\n",
        "\n",
        "# Calling the class method\n",
        "print(\"Total persons created:\", Person.total_persons())\n"
      ],
      "metadata": {
        "colab": {
          "base_uri": "https://localhost:8080/"
        },
        "id": "eMAWXg9IiXUT",
        "outputId": "96b89d9b-6472-4b01-8e28-01e027ef8903"
      },
      "execution_count": 14,
      "outputs": [
        {
          "output_type": "stream",
          "name": "stdout",
          "text": [
            "Total persons created: 3\n"
          ]
        }
      ]
    },
    {
      "cell_type": "code",
      "source": [
        "# 9. Write a class Fraction with attributes numerator and denominator. Override the str method to display the fraction as \"numerator/denominator\".\n",
        "\n",
        "class Fraction:\n",
        "    def __init__(self, numerator, denominator):\n",
        "        if denominator == 0:\n",
        "            raise ValueError(\"Denominator cannot be zero\")\n",
        "        self.numerator = numerator\n",
        "        self.denominator = denominator\n",
        "\n",
        "    def __str__(self):\n",
        "        return f\"{self.numerator}/{self.denominator}\"\n",
        "\n",
        "# Example usage:\n",
        "fraction1 = Fraction(3, 4)\n",
        "print(fraction1)\n",
        "\n",
        "fraction2 = Fraction(7, 2)\n",
        "fraction2\n"
      ],
      "metadata": {
        "colab": {
          "base_uri": "https://localhost:8080/"
        },
        "id": "ArOrTKjEjF92",
        "outputId": "efe4d862-7c58-4640-ad9a-e176eaeb23f2"
      },
      "execution_count": 16,
      "outputs": [
        {
          "output_type": "stream",
          "name": "stdout",
          "text": [
            "3/4\n"
          ]
        },
        {
          "output_type": "execute_result",
          "data": {
            "text/plain": [
              "<__main__.Fraction at 0x7fb528444b10>"
            ]
          },
          "metadata": {},
          "execution_count": 16
        }
      ]
    },
    {
      "cell_type": "code",
      "source": [
        "# 10. Demonstrate operator overloading by creating a class Vector and overriding the add method to add two vectors."
      ],
      "metadata": {
        "id": "o7ONt5crjdEw"
      },
      "execution_count": 19,
      "outputs": []
    },
    {
      "cell_type": "code",
      "source": [
        "# 11. Create a class Person with attributes name and age. Add a method greet() that prints \"Hello, my name is\n",
        "# {name} and I am {age} years old.\"\n",
        "\n",
        "class Person:\n",
        "    def __init__(self, name, age):\n",
        "        self.name = name\n",
        "        self.age = age\n",
        "\n",
        "    def greet(self):\n",
        "        print(f\"Hello, my name is {self.name} and I am {self.age} years old.\")\n",
        "\n",
        "# Example usage\n",
        "person1 = Person(\"Alice\", 30)\n",
        "person1.greet()\n",
        "\n",
        "person2 = Person(\"Bob\", 25) # Ensure this line is executed to define 'person2'\n",
        "person2.greet()"
      ],
      "metadata": {
        "colab": {
          "base_uri": "https://localhost:8080/"
        },
        "id": "GklG_8OUkSB4",
        "outputId": "8363f50d-91c6-4835-e299-4e69809d8cd9"
      },
      "execution_count": 23,
      "outputs": [
        {
          "output_type": "stream",
          "name": "stdout",
          "text": [
            "Hello, my name is Alice and I am 30 years old.\n",
            "Hello, my name is Bob and I am 25 years old.\n"
          ]
        }
      ]
    },
    {
      "cell_type": "code",
      "source": [
        "# 12. Implement a class Student with attributes name and grades. Create a method average_grade() to compute\n",
        "# the average of the grades.\n",
        "\n",
        "class Student:\n",
        "    def __init__(self, name, grades):\n",
        "        self.name = name\n",
        "        self.grades = grades\n",
        "\n",
        "    def average_grade(self):\n",
        "        if not self.grades:\n",
        "            return 0\n",
        "        return sum(self.grades) / len(self.grades)\n",
        "\n",
        "# Example usage:\n",
        "student1 = Student(\"Alice\", [85, 90, 92, 88])\n",
        "print(f\"Student: {student1.name}, Grades: {student1.grades}\")\n",
        "print(f\"Average Grade: {student1.average_grade():.2f}\")\n",
        "\n",
        "student2 = Student(\"Bob\", [75, 80, 78])\n",
        "print(f\"Student: {student2.name}, Grades: {student2.grades}\")\n",
        "print(f\"Average Grade: {student2.average_grade():.2f}\")\n",
        "\n",
        "student3 = Student(\"Charlie\", [])\n",
        "print(f\"Student: {student3.name}, Grades: {student3.grades}\")\n",
        "print(f\"Average Grade: {student3.average_grade():.2f}\")\n"
      ],
      "metadata": {
        "colab": {
          "base_uri": "https://localhost:8080/"
        },
        "id": "zp4oK-V1kn5h",
        "outputId": "d6b37021-65a8-4e5a-d8b9-06c85ca056e0"
      },
      "execution_count": 25,
      "outputs": [
        {
          "output_type": "stream",
          "name": "stdout",
          "text": [
            "Student: Alice, Grades: [85, 90, 92, 88]\n",
            "Average Grade: 88.75\n",
            "Student: Bob, Grades: [75, 80, 78]\n",
            "Average Grade: 77.67\n",
            "Student: Charlie, Grades: []\n",
            "Average Grade: 0.00\n"
          ]
        }
      ]
    },
    {
      "cell_type": "code",
      "source": [
        "# 13. Create a class Rectangle with methods set_dimensions() to set the dimensions and area() to calculate the\n",
        "# area.\n",
        "\n",
        "class Rectangle:\n",
        "    def __init__(self):\n",
        "        self.length = 0\n",
        "        self.width = 0\n",
        "\n",
        "    def set_dimensions(self, length, width):\n",
        "        self.length = length\n",
        "        self.width = width\n",
        "\n",
        "    def area(self):\n",
        "        return self.length * self.width\n",
        "\n",
        "# Example usage:\n",
        "my_rectangle = Rectangle()\n",
        "my_rectangle.set_dimensions(10, 5)\n",
        "print(f\"Rectangle area: {my_rectangle.area()}\")\n"
      ],
      "metadata": {
        "colab": {
          "base_uri": "https://localhost:8080/"
        },
        "id": "-JsBgw9Ck0Jh",
        "outputId": "af9c6121-a892-4d07-ae65-a686ca772251"
      },
      "execution_count": 26,
      "outputs": [
        {
          "output_type": "stream",
          "name": "stdout",
          "text": [
            "Rectangle area: 50\n"
          ]
        }
      ]
    },
    {
      "cell_type": "code",
      "source": [
        "# 14. Create a class Employee with a method calculate_salary() that computes the salary based on hours worked\n",
        "# and hourly rate. Create a derived class Manager that adds a bonus to the salary.\n",
        "\n",
        "class Employee:\n",
        "  def __init__(self, hours_worked, hourly_rate):\n",
        "    self.hours_worked = hours_worked\n",
        "    self.hourly_rate = hourly_rate\n",
        "\n",
        "  def calculate_salary(self):\n",
        "    return self.hours_worked * self.hourly_rate\n",
        "\n",
        "class Manager(Employee):\n",
        "  def __init__(self, hours_worked, hourly_rate, bonus):\n",
        "    super().__init__(hours_worked, hourly_rate)\n",
        "    self.bonus = bonus\n",
        "\n",
        "  def calculate_salary(self):\n",
        "    base_salary = super().calculate_salary()\n",
        "    return base_salary + self.bonus\n",
        "\n",
        "# Example usage\n",
        "employee = Employee(hours_worked=40, hourly_rate=15)\n",
        "print(f\"Employee Salary: ${employee.calculate_salary()}\")\n",
        "\n",
        "manager = Manager(hours_worked=40, hourly_rate=20, bonus=500)\n",
        "print(f\"Manager Salary: ${manager.calculate_salary()}\")\n"
      ],
      "metadata": {
        "colab": {
          "base_uri": "https://localhost:8080/"
        },
        "id": "vUrMc866k_P3",
        "outputId": "91250b99-5378-4013-8cda-2c9a2888eba6"
      },
      "execution_count": 27,
      "outputs": [
        {
          "output_type": "stream",
          "name": "stdout",
          "text": [
            "Employee Salary: $600\n",
            "Manager Salary: $1300\n"
          ]
        }
      ]
    },
    {
      "cell_type": "code",
      "source": [
        "# 15. Create a class Product with attributes name, price, and quantity. Implement a method total_price() that\n",
        "# calculates the total price of the product.\n",
        "\n",
        "class Product:\n",
        "    def __init__(self, name, price, quantity):\n",
        "        self.name = name\n",
        "        self.price = price\n",
        "        self.quantity = quantity\n",
        "\n",
        "    def total_price(self):\n",
        "        \"\"\"Calculates the total price of the product.\"\"\"\n",
        "        return self.price * self.quantity\n",
        "\n",
        "# Example usage:\n",
        "product1 = Product(\"Laptop\", 1200, 2)\n",
        "print(f\"Product: {product1.name}\")\n",
        "print(f\"Price per item: ${product1.price}\")\n",
        "print(f\"Quantity: {product1.quantity}\")\n",
        "print(f\"Total Price: ${product1.total_price()}\")\n",
        "\n",
        "product2 = Product(\"Mouse\", 25, 10)\n",
        "print(f\"\\nProduct: {product2.name}\")\n",
        "print(f\"Price per item: ${product2.price}\")\n",
        "print(f\"Quantity: {product2.quantity}\")\n",
        "print(f\"Total Price: ${product2.total_price()}\")\n"
      ],
      "metadata": {
        "colab": {
          "base_uri": "https://localhost:8080/"
        },
        "id": "N3JLOJJMlGz9",
        "outputId": "51efa997-4b98-4e2a-cb85-eaaba7926706"
      },
      "execution_count": 28,
      "outputs": [
        {
          "output_type": "stream",
          "name": "stdout",
          "text": [
            "Product: Laptop\n",
            "Price per item: $1200\n",
            "Quantity: 2\n",
            "Total Price: $2400\n",
            "\n",
            "Product: Mouse\n",
            "Price per item: $25\n",
            "Quantity: 10\n",
            "Total Price: $250\n"
          ]
        }
      ]
    },
    {
      "cell_type": "code",
      "source": [
        "# 16. Create a class Animal with an abstract method sound(). Create two derived classes Cow and Sheep that\n",
        "# implement the sound() method.\n",
        "\n",
        "class Animal(ABC):\n",
        "    @abstractmethod\n",
        "    def sound(self):\n",
        "        pass\n",
        "\n",
        "class Cow(Animal):\n",
        "    def sound(self):\n",
        "        print(\"Moo!\")\n",
        "\n",
        "class Sheep(Animal):\n",
        "    def sound(self):\n",
        "        print(\"Baa!\")\n",
        "\n",
        "# Example usage:\n",
        "cow = Cow()\n",
        "cow.sound()\n",
        "\n",
        "sheep = Sheep()\n",
        "sheep.sound()"
      ],
      "metadata": {
        "colab": {
          "base_uri": "https://localhost:8080/"
        },
        "id": "mUdlelAclLBT",
        "outputId": "376ab1e1-d665-46c0-f88d-ca64b123683e"
      },
      "execution_count": 29,
      "outputs": [
        {
          "output_type": "stream",
          "name": "stdout",
          "text": [
            "Moo!\n",
            "Baa!\n"
          ]
        }
      ]
    },
    {
      "cell_type": "code",
      "source": [
        "# 17. Create a class Book with attributes title, author, and year_published. Add a method get_book_info() that\n",
        "# returns a formatted string with the book's details.\n",
        "\n",
        "class Book:\n",
        "  def __init__(self, title, author, year_published):\n",
        "    self.title = title\n",
        "    self.author = author\n",
        "    self.year_published = year_published\n",
        "\n",
        "  def get_book_info(self):\n",
        "    \"\"\"Returns a formatted string with the book's details.\"\"\"\n",
        "    return f\"Title: {self.title}, Author: {self.author}, Year Published: {self.year_published}\"\n",
        "\n",
        "# Example usage:\n",
        "book1 = Book(\"The Hitchhiker's Guide to the Galaxy\", \"Douglas Adams\", 1979)\n",
        "print(book1.get_book_info())\n",
        "\n",
        "book2 = Book(\"Pride and Prejudice\", \"Jane Austen\", 1813)\n",
        "print(book2.get_book_info())"
      ],
      "metadata": {
        "id": "cvTJ5KcglUv6"
      },
      "execution_count": null,
      "outputs": []
    },
    {
      "cell_type": "code",
      "source": [
        "# 18. Create a class House with attributes address and price. Create a derived class Mansion that adds an\n",
        "# attribute number_of_rooms.\n",
        "\n",
        "class House:\n",
        "  def __init__(self, address, price):\n",
        "    self.address = address\n",
        "    self.price = price\n",
        "\n",
        "class Mansion(House):\n",
        "  def __init__(self, address, price, number_of_rooms):\n",
        "    super().__init__(address, price)\n",
        "    self.number_of_rooms = number_of_rooms\n",
        "\n",
        "# Example Usage\n",
        "house1 = House(\"123 Oak St\", 300000)\n",
        "print(f\"House: {house1.address}, Price: ${house1.price}\")\n",
        "\n",
        "mansion1 = Mansion(\"456 Maple Ave\", 1500000, 25)\n",
        "print(f\"Mansion: {mansion1.address}, Price: ${mansion1.price}, Rooms: {mansion1.number_of_rooms}\")"
      ],
      "metadata": {
        "colab": {
          "base_uri": "https://localhost:8080/"
        },
        "id": "QNGNph1PlQN2",
        "outputId": "7fb328c6-935b-4fc3-ab16-f8eea5ee48da"
      },
      "execution_count": 30,
      "outputs": [
        {
          "output_type": "stream",
          "name": "stdout",
          "text": [
            "House: 123 Oak St, Price: $300000\n",
            "Mansion: 456 Maple Ave, Price: $1500000, Rooms: 25\n"
          ]
        }
      ]
    },
    {
      "cell_type": "code",
      "source": [],
      "metadata": {
        "id": "mC7joKkrlc8L"
      },
      "execution_count": null,
      "outputs": []
    }
  ]
}